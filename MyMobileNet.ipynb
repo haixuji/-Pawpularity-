{
  "nbformat": 4,
  "nbformat_minor": 0,
  "metadata": {
    "colab": {
      "name": "MyMobileNet.ipynb",
      "provenance": [],
      "collapsed_sections": []
    },
    "kernelspec": {
      "name": "python3",
      "display_name": "Python 3"
    },
    "language_info": {
      "name": "python"
    },
    "accelerator": "GPU"
  },
  "cells": [
    {
      "cell_type": "markdown",
      "metadata": {
        "id": "C_jf7N2g3Vf-"
      },
      "source": [
        "# Build Model"
      ]
    },
    {
      "cell_type": "code",
      "metadata": {
        "id": "VoXeQp_LySqG"
      },
      "source": [
        "import tensorflow as tf"
      ],
      "execution_count": 1,
      "outputs": []
    },
    {
      "cell_type": "code",
      "metadata": {
        "id": "5ciu-0YvyVVD"
      },
      "source": [
        "def conv(inputs, filters, filter_size=(3, 3), strides=(1, 1)):\n",
        "  x = tf.keras.layers.Conv2D(filters, \n",
        "                             kernel_size=filter_size, \n",
        "                             strides=strides, \n",
        "                             padding='same', \n",
        "                             use_bias=False)(inputs)\n",
        "  tf.keras.layers.BatchNormalization()(x)\n",
        "  return tf.keras.layers.ReLU(6.0)(x)\n",
        "\n",
        "def conv_dw(inputs, pw_cov_filters, strides=(1, 1)):\n",
        "  # depthwise conv\n",
        "  x = tf.keras.layers.DepthwiseConv2D((3, 3), \n",
        "                                      padding='same', \n",
        "                                      strides=strides,\n",
        "                                      use_bias=False)(inputs)\n",
        "  x = tf.keras.layers.BatchNormalization()(x)\n",
        "  x = tf.keras.layers.ReLU(6.0)(x)\n",
        "\n",
        "  # pointwise conv\n",
        "  x = tf.keras.layers.Conv2D(pw_cov_filters,\n",
        "                             kernel_size=(1, 1),\n",
        "                             padding='same',\n",
        "                             use_bias=False)(x)\n",
        "  x = tf.keras.layers.BatchNormalization()(x)\n",
        "  return tf.keras.layers.ReLU(6.0)(x)\n",
        "\n",
        "def my_mobilenet_v1(inputs, fc_neurons=64, bn=False, dp=False, dp_rate=0.5):\n",
        "  x = conv(inputs, 32, strides=(2, 2))\n",
        "  x = conv_dw(x, 64)\n",
        "  x = conv_dw(x, 128, strides=(2, 2))\n",
        "  x = conv_dw(x, 128)\n",
        "  x = conv_dw(x, 256, strides=(2, 2))\n",
        "  x = conv_dw(x, 256)\n",
        "  x = conv_dw(x, 512, strides=(2, 2))\n",
        "  x = conv_dw(x, 512)\n",
        "  x = conv_dw(x, 512)\n",
        "  x = conv_dw(x, 512)\n",
        "  x = conv_dw(x, 512)\n",
        "  x = conv_dw(x, 512)\n",
        "  x = conv_dw(x, 1024, strides=(2, 2))\n",
        "  x = conv_dw(x, 1024)\n",
        "  x = tf.keras.layers.GlobalAveragePooling2D()(x)\n",
        "  if dp:\n",
        "    x = tf.keras.layers.Dropout(dp_rate)(x)\n",
        "\n",
        "  # FC layer 1\n",
        "  x = tf.keras.layers.Dense(fc_neurons)(x)\n",
        "  if bn:\n",
        "    x = tf.keras.layers.BatchNormalization()(x)\n",
        "  x = tf.keras.layers.ReLU(6.0)(x)\n",
        "  if dp:\n",
        "    x = tf.keras.layers.Dropout(dp_rate)(x)\n",
        "\n",
        "  # FC layer 2\n",
        "  x = tf.keras.layers.Dense(fc_neurons)(x)\n",
        "  if bn:\n",
        "    x = tf.keras.layers.BatchNormalization()(x)\n",
        "  x = tf.keras.layers.ReLU(6.0)(x)\n",
        "  if dp:\n",
        "    x = tf.keras.layers.Dropout(dp_rate)(x)\n",
        "\n",
        "  # output\n",
        "  output = tf.keras.layers.Dense(1, activation='sigmoid')(x)\n",
        "  return output"
      ],
      "execution_count": 2,
      "outputs": []
    },
    {
      "cell_type": "code",
      "metadata": {
        "colab": {
          "base_uri": "https://localhost:8080/"
        },
        "id": "dInpExJ1yVXP",
        "outputId": "39da6f2e-c935-4ff3-aa2b-6bf37123d6fe"
      },
      "source": [
        "inputs = tf.keras.Input(shape=(224, 224, 3))\n",
        "model = tf.keras.Model(inputs=inputs, outputs=my_mobilenet_v1(inputs, 64))\n",
        "model.summary()"
      ],
      "execution_count": 3,
      "outputs": [
        {
          "output_type": "stream",
          "name": "stdout",
          "text": [
            "Model: \"model\"\n",
            "_________________________________________________________________\n",
            " Layer (type)                Output Shape              Param #   \n",
            "=================================================================\n",
            " input_1 (InputLayer)        [(None, 224, 224, 3)]     0         \n",
            "                                                                 \n",
            " conv2d (Conv2D)             (None, 112, 112, 32)      864       \n",
            "                                                                 \n",
            " re_lu (ReLU)                (None, 112, 112, 32)      0         \n",
            "                                                                 \n",
            " depthwise_conv2d (Depthwise  (None, 112, 112, 32)     288       \n",
            " Conv2D)                                                         \n",
            "                                                                 \n",
            " batch_normalization_1 (Batc  (None, 112, 112, 32)     128       \n",
            " hNormalization)                                                 \n",
            "                                                                 \n",
            " re_lu_1 (ReLU)              (None, 112, 112, 32)      0         \n",
            "                                                                 \n",
            " conv2d_1 (Conv2D)           (None, 112, 112, 64)      2048      \n",
            "                                                                 \n",
            " batch_normalization_2 (Batc  (None, 112, 112, 64)     256       \n",
            " hNormalization)                                                 \n",
            "                                                                 \n",
            " re_lu_2 (ReLU)              (None, 112, 112, 64)      0         \n",
            "                                                                 \n",
            " depthwise_conv2d_1 (Depthwi  (None, 56, 56, 64)       576       \n",
            " seConv2D)                                                       \n",
            "                                                                 \n",
            " batch_normalization_3 (Batc  (None, 56, 56, 64)       256       \n",
            " hNormalization)                                                 \n",
            "                                                                 \n",
            " re_lu_3 (ReLU)              (None, 56, 56, 64)        0         \n",
            "                                                                 \n",
            " conv2d_2 (Conv2D)           (None, 56, 56, 128)       8192      \n",
            "                                                                 \n",
            " batch_normalization_4 (Batc  (None, 56, 56, 128)      512       \n",
            " hNormalization)                                                 \n",
            "                                                                 \n",
            " re_lu_4 (ReLU)              (None, 56, 56, 128)       0         \n",
            "                                                                 \n",
            " depthwise_conv2d_2 (Depthwi  (None, 56, 56, 128)      1152      \n",
            " seConv2D)                                                       \n",
            "                                                                 \n",
            " batch_normalization_5 (Batc  (None, 56, 56, 128)      512       \n",
            " hNormalization)                                                 \n",
            "                                                                 \n",
            " re_lu_5 (ReLU)              (None, 56, 56, 128)       0         \n",
            "                                                                 \n",
            " conv2d_3 (Conv2D)           (None, 56, 56, 128)       16384     \n",
            "                                                                 \n",
            " batch_normalization_6 (Batc  (None, 56, 56, 128)      512       \n",
            " hNormalization)                                                 \n",
            "                                                                 \n",
            " re_lu_6 (ReLU)              (None, 56, 56, 128)       0         \n",
            "                                                                 \n",
            " depthwise_conv2d_3 (Depthwi  (None, 28, 28, 128)      1152      \n",
            " seConv2D)                                                       \n",
            "                                                                 \n",
            " batch_normalization_7 (Batc  (None, 28, 28, 128)      512       \n",
            " hNormalization)                                                 \n",
            "                                                                 \n",
            " re_lu_7 (ReLU)              (None, 28, 28, 128)       0         \n",
            "                                                                 \n",
            " conv2d_4 (Conv2D)           (None, 28, 28, 256)       32768     \n",
            "                                                                 \n",
            " batch_normalization_8 (Batc  (None, 28, 28, 256)      1024      \n",
            " hNormalization)                                                 \n",
            "                                                                 \n",
            " re_lu_8 (ReLU)              (None, 28, 28, 256)       0         \n",
            "                                                                 \n",
            " depthwise_conv2d_4 (Depthwi  (None, 28, 28, 256)      2304      \n",
            " seConv2D)                                                       \n",
            "                                                                 \n",
            " batch_normalization_9 (Batc  (None, 28, 28, 256)      1024      \n",
            " hNormalization)                                                 \n",
            "                                                                 \n",
            " re_lu_9 (ReLU)              (None, 28, 28, 256)       0         \n",
            "                                                                 \n",
            " conv2d_5 (Conv2D)           (None, 28, 28, 256)       65536     \n",
            "                                                                 \n",
            " batch_normalization_10 (Bat  (None, 28, 28, 256)      1024      \n",
            " chNormalization)                                                \n",
            "                                                                 \n",
            " re_lu_10 (ReLU)             (None, 28, 28, 256)       0         \n",
            "                                                                 \n",
            " depthwise_conv2d_5 (Depthwi  (None, 14, 14, 256)      2304      \n",
            " seConv2D)                                                       \n",
            "                                                                 \n",
            " batch_normalization_11 (Bat  (None, 14, 14, 256)      1024      \n",
            " chNormalization)                                                \n",
            "                                                                 \n",
            " re_lu_11 (ReLU)             (None, 14, 14, 256)       0         \n",
            "                                                                 \n",
            " conv2d_6 (Conv2D)           (None, 14, 14, 512)       131072    \n",
            "                                                                 \n",
            " batch_normalization_12 (Bat  (None, 14, 14, 512)      2048      \n",
            " chNormalization)                                                \n",
            "                                                                 \n",
            " re_lu_12 (ReLU)             (None, 14, 14, 512)       0         \n",
            "                                                                 \n",
            " depthwise_conv2d_6 (Depthwi  (None, 14, 14, 512)      4608      \n",
            " seConv2D)                                                       \n",
            "                                                                 \n",
            " batch_normalization_13 (Bat  (None, 14, 14, 512)      2048      \n",
            " chNormalization)                                                \n",
            "                                                                 \n",
            " re_lu_13 (ReLU)             (None, 14, 14, 512)       0         \n",
            "                                                                 \n",
            " conv2d_7 (Conv2D)           (None, 14, 14, 512)       262144    \n",
            "                                                                 \n",
            " batch_normalization_14 (Bat  (None, 14, 14, 512)      2048      \n",
            " chNormalization)                                                \n",
            "                                                                 \n",
            " re_lu_14 (ReLU)             (None, 14, 14, 512)       0         \n",
            "                                                                 \n",
            " depthwise_conv2d_7 (Depthwi  (None, 14, 14, 512)      4608      \n",
            " seConv2D)                                                       \n",
            "                                                                 \n",
            " batch_normalization_15 (Bat  (None, 14, 14, 512)      2048      \n",
            " chNormalization)                                                \n",
            "                                                                 \n",
            " re_lu_15 (ReLU)             (None, 14, 14, 512)       0         \n",
            "                                                                 \n",
            " conv2d_8 (Conv2D)           (None, 14, 14, 512)       262144    \n",
            "                                                                 \n",
            " batch_normalization_16 (Bat  (None, 14, 14, 512)      2048      \n",
            " chNormalization)                                                \n",
            "                                                                 \n",
            " re_lu_16 (ReLU)             (None, 14, 14, 512)       0         \n",
            "                                                                 \n",
            " depthwise_conv2d_8 (Depthwi  (None, 14, 14, 512)      4608      \n",
            " seConv2D)                                                       \n",
            "                                                                 \n",
            " batch_normalization_17 (Bat  (None, 14, 14, 512)      2048      \n",
            " chNormalization)                                                \n",
            "                                                                 \n",
            " re_lu_17 (ReLU)             (None, 14, 14, 512)       0         \n",
            "                                                                 \n",
            " conv2d_9 (Conv2D)           (None, 14, 14, 512)       262144    \n",
            "                                                                 \n",
            " batch_normalization_18 (Bat  (None, 14, 14, 512)      2048      \n",
            " chNormalization)                                                \n",
            "                                                                 \n",
            " re_lu_18 (ReLU)             (None, 14, 14, 512)       0         \n",
            "                                                                 \n",
            " depthwise_conv2d_9 (Depthwi  (None, 14, 14, 512)      4608      \n",
            " seConv2D)                                                       \n",
            "                                                                 \n",
            " batch_normalization_19 (Bat  (None, 14, 14, 512)      2048      \n",
            " chNormalization)                                                \n",
            "                                                                 \n",
            " re_lu_19 (ReLU)             (None, 14, 14, 512)       0         \n",
            "                                                                 \n",
            " conv2d_10 (Conv2D)          (None, 14, 14, 512)       262144    \n",
            "                                                                 \n",
            " batch_normalization_20 (Bat  (None, 14, 14, 512)      2048      \n",
            " chNormalization)                                                \n",
            "                                                                 \n",
            " re_lu_20 (ReLU)             (None, 14, 14, 512)       0         \n",
            "                                                                 \n",
            " depthwise_conv2d_10 (Depthw  (None, 14, 14, 512)      4608      \n",
            " iseConv2D)                                                      \n",
            "                                                                 \n",
            " batch_normalization_21 (Bat  (None, 14, 14, 512)      2048      \n",
            " chNormalization)                                                \n",
            "                                                                 \n",
            " re_lu_21 (ReLU)             (None, 14, 14, 512)       0         \n",
            "                                                                 \n",
            " conv2d_11 (Conv2D)          (None, 14, 14, 512)       262144    \n",
            "                                                                 \n",
            " batch_normalization_22 (Bat  (None, 14, 14, 512)      2048      \n",
            " chNormalization)                                                \n",
            "                                                                 \n",
            " re_lu_22 (ReLU)             (None, 14, 14, 512)       0         \n",
            "                                                                 \n",
            " depthwise_conv2d_11 (Depthw  (None, 7, 7, 512)        4608      \n",
            " iseConv2D)                                                      \n",
            "                                                                 \n",
            " batch_normalization_23 (Bat  (None, 7, 7, 512)        2048      \n",
            " chNormalization)                                                \n",
            "                                                                 \n",
            " re_lu_23 (ReLU)             (None, 7, 7, 512)         0         \n",
            "                                                                 \n",
            " conv2d_12 (Conv2D)          (None, 7, 7, 1024)        524288    \n",
            "                                                                 \n",
            " batch_normalization_24 (Bat  (None, 7, 7, 1024)       4096      \n",
            " chNormalization)                                                \n",
            "                                                                 \n",
            " re_lu_24 (ReLU)             (None, 7, 7, 1024)        0         \n",
            "                                                                 \n",
            " depthwise_conv2d_12 (Depthw  (None, 7, 7, 1024)       9216      \n",
            " iseConv2D)                                                      \n",
            "                                                                 \n",
            " batch_normalization_25 (Bat  (None, 7, 7, 1024)       4096      \n",
            " chNormalization)                                                \n",
            "                                                                 \n",
            " re_lu_25 (ReLU)             (None, 7, 7, 1024)        0         \n",
            "                                                                 \n",
            " conv2d_13 (Conv2D)          (None, 7, 7, 1024)        1048576   \n",
            "                                                                 \n",
            " batch_normalization_26 (Bat  (None, 7, 7, 1024)       4096      \n",
            " chNormalization)                                                \n",
            "                                                                 \n",
            " re_lu_26 (ReLU)             (None, 7, 7, 1024)        0         \n",
            "                                                                 \n",
            " global_average_pooling2d (G  (None, 1024)             0         \n",
            " lobalAveragePooling2D)                                          \n",
            "                                                                 \n",
            " dense (Dense)               (None, 64)                65600     \n",
            "                                                                 \n",
            " re_lu_27 (ReLU)             (None, 64)                0         \n",
            "                                                                 \n",
            " dense_1 (Dense)             (None, 64)                4160      \n",
            "                                                                 \n",
            " re_lu_28 (ReLU)             (None, 64)                0         \n",
            "                                                                 \n",
            " dense_2 (Dense)             (None, 1)                 65        \n",
            "                                                                 \n",
            "=================================================================\n",
            "Total params: 3,298,561\n",
            "Trainable params: 3,276,737\n",
            "Non-trainable params: 21,824\n",
            "_________________________________________________________________\n"
          ]
        }
      ]
    },
    {
      "cell_type": "markdown",
      "metadata": {
        "id": "WkxGU-Dh-iJm"
      },
      "source": [
        "# Build Dataset"
      ]
    },
    {
      "cell_type": "code",
      "metadata": {
        "id": "7-W7GWDGyVZl"
      },
      "source": [
        "import pandas as pd\n",
        "from sklearn.model_selection import train_test_split\n",
        "import numpy as np"
      ],
      "execution_count": 4,
      "outputs": []
    },
    {
      "cell_type": "code",
      "metadata": {
        "colab": {
          "base_uri": "https://localhost:8080/",
          "height": 81
        },
        "id": "cC9xw9oVyVbz",
        "outputId": "20b907a1-9d96-4c1f-db77-9ec0ee5b46c0"
      },
      "source": [
        "# find all images\n",
        "data_path = '/content/drive/MyDrive/ml_project/255_project'\n",
        "df = pd.read_csv('/content/drive/MyDrive/ml_project/255_project/train.csv')\n",
        "df['img_path'] = data_path + '/train/' + df.Id +'.jpg' \n",
        "df.head(1)"
      ],
      "execution_count": 5,
      "outputs": [
        {
          "output_type": "execute_result",
          "data": {
            "text/html": [
              "<div>\n",
              "<style scoped>\n",
              "    .dataframe tbody tr th:only-of-type {\n",
              "        vertical-align: middle;\n",
              "    }\n",
              "\n",
              "    .dataframe tbody tr th {\n",
              "        vertical-align: top;\n",
              "    }\n",
              "\n",
              "    .dataframe thead th {\n",
              "        text-align: right;\n",
              "    }\n",
              "</style>\n",
              "<table border=\"1\" class=\"dataframe\">\n",
              "  <thead>\n",
              "    <tr style=\"text-align: right;\">\n",
              "      <th></th>\n",
              "      <th>Id</th>\n",
              "      <th>Subject Focus</th>\n",
              "      <th>Eyes</th>\n",
              "      <th>Face</th>\n",
              "      <th>Near</th>\n",
              "      <th>Action</th>\n",
              "      <th>Accessory</th>\n",
              "      <th>Group</th>\n",
              "      <th>Collage</th>\n",
              "      <th>Human</th>\n",
              "      <th>Occlusion</th>\n",
              "      <th>Info</th>\n",
              "      <th>Blur</th>\n",
              "      <th>Pawpularity</th>\n",
              "      <th>img_path</th>\n",
              "    </tr>\n",
              "  </thead>\n",
              "  <tbody>\n",
              "    <tr>\n",
              "      <th>0</th>\n",
              "      <td>0007de18844b0dbbb5e1f607da0606e0</td>\n",
              "      <td>0</td>\n",
              "      <td>1</td>\n",
              "      <td>1</td>\n",
              "      <td>1</td>\n",
              "      <td>0</td>\n",
              "      <td>0</td>\n",
              "      <td>1</td>\n",
              "      <td>0</td>\n",
              "      <td>0</td>\n",
              "      <td>0</td>\n",
              "      <td>0</td>\n",
              "      <td>0</td>\n",
              "      <td>63</td>\n",
              "      <td>/content/drive/MyDrive/ml_project/255_project/...</td>\n",
              "    </tr>\n",
              "  </tbody>\n",
              "</table>\n",
              "</div>"
            ],
            "text/plain": [
              "                                 Id  ...                                           img_path\n",
              "0  0007de18844b0dbbb5e1f607da0606e0  ...  /content/drive/MyDrive/ml_project/255_project/...\n",
              "\n",
              "[1 rows x 15 columns]"
            ]
          },
          "metadata": {},
          "execution_count": 5
        }
      ]
    },
    {
      "cell_type": "code",
      "metadata": {
        "id": "WvrQAXl5yVgX"
      },
      "source": [
        "# pipeline\n",
        "# image decoder\n",
        "def img_decoder(path, label):\n",
        "  img_file = tf.io.read_file(path)\n",
        "  img = tf.image.decode_jpeg(img_file, channels=3)\n",
        "  # resize images with pad to desired size\n",
        "  img = tf.image.resize_with_pad(img, img_size[0], img_size[1])\n",
        "  # image normalization\n",
        "  img = tf.cast(img, tf.float32) / 255.0\n",
        "  # image reshape\n",
        "  img = tf.reshape(img, [*img_size, 3])\n",
        "  \n",
        "  return img, tf.cast(label, tf.float32) / 100.0\n",
        "\n",
        "# image augmentations\n",
        "  # random flip\n",
        "  # random brightness\n",
        "  # random contrast\n",
        "  # random hue\n",
        "def img_flip(img, label):\n",
        "  img = tf.image.random_flip_left_right(img)\n",
        "  img = tf.reshape(img, [*img_size, 3])\n",
        "  return img, label\n",
        "\n",
        "def img_flip2(img, label):\n",
        "  img = tf.image.random_flip_up_down(img)\n",
        "  img = tf.reshape(img, [*img_size, 3])\n",
        "  return img, label\n",
        "\n",
        "def img_bri(img, label):\n",
        "  img = tf.image.random_brightness(img, max_delta=0.2)\n",
        "  img = tf.reshape(img, [*img_size, 3])\n",
        "  return img, label\n",
        "\n",
        "def img_contrast(img, label):\n",
        "  img = tf.image.random_contrast(img, 0.2, 0.5)\n",
        "  img = tf.reshape(img, [*img_size, 3])\n",
        "  return img, label\n",
        "\n",
        "def img_hue(img, label):\n",
        "  img = tf.image.random_hue(img, max_delta=0.2)\n",
        "  img = tf.reshape(img, [*img_size, 3])\n",
        "  return img, label\n",
        "\n",
        "# build dataset\n",
        "def dataset_builder(path_list, labels, img_size, batch_size, augment=True):\n",
        "  AUTOTUNE = tf.data.experimental.AUTOTUNE\n",
        "  slices = (path_list, labels)\n",
        "\n",
        "  ds = tf.data.Dataset.from_tensor_slices(slices)\n",
        "  ds = ds.map(img_decoder, num_parallel_calls=AUTOTUNE)\n",
        "  ds = ds.repeat(1)\n",
        "\n",
        "  if augment:\n",
        "    ds_flip = ds.map(img_flip, num_parallel_calls=AUTOTUNE)\n",
        "    ds_filp2 = ds.map(img_flip2, num_parallel_calls=AUTOTUNE)\n",
        "    ds_bri = ds.map(img_bri, num_parallel_calls=AUTOTUNE)\n",
        "    ds_contrast = ds.map(img_contrast, num_parallel_calls=AUTOTUNE)\n",
        "    ds_hue = ds.map(img_hue, num_parallel_calls=AUTOTUNE)\n",
        "    # combine all dataset\n",
        "    ds = ds.concatenate(ds_flip).concatenate(ds_filp2).concatenate(ds_bri).concatenate(ds_contrast).concatenate(ds_hue)\n",
        "\n",
        "  ds = ds.shuffle(10 * batch_size)\n",
        "  ds = ds.batch(batch_size)\n",
        "  ds = ds.prefetch(AUTOTUNE)\n",
        "  return ds"
      ],
      "execution_count": 6,
      "outputs": []
    },
    {
      "cell_type": "code",
      "metadata": {
        "id": "reRx4ePEyVic"
      },
      "source": [
        "paths = df.img_path.tolist()\n",
        "labels = df.Pawpularity.tolist()\n",
        "X_train, X_test, y_train, y_test = train_test_split(paths, labels, test_size=0.2, random_state=40)\n",
        "X_train, X_val, y_train, y_val = train_test_split(X_train, y_train, test_size=0.2, random_state=40)"
      ],
      "execution_count": 7,
      "outputs": []
    },
    {
      "cell_type": "code",
      "metadata": {
        "colab": {
          "base_uri": "https://localhost:8080/"
        },
        "id": "6ubJoAG1yVky",
        "outputId": "6e233829-70ab-4b53-d993-a5d786454580"
      },
      "source": [
        "img_size = [224, 224]\n",
        "batch_size = 128\n",
        "\n",
        "ds_train = dataset_builder(X_train, y_train, img_size=img_size, batch_size=batch_size)\n",
        "ds_val = dataset_builder(X_val, y_val, img_size=img_size, batch_size=batch_size, augment=False)\n",
        "ds_test = dataset_builder(X_test, y_test, img_size=img_size, batch_size=batch_size, augment=False)\n",
        "print('train set size:', len(ds_train) * batch_size)\n",
        "print('val set size:', len(ds_val) * batch_size)\n",
        "print('test set size:', len(ds_test) * batch_size)"
      ],
      "execution_count": 26,
      "outputs": [
        {
          "output_type": "stream",
          "name": "stdout",
          "text": [
            "train set size: 38144\n",
            "val set size: 1664\n",
            "test set size: 2048\n"
          ]
        }
      ]
    },
    {
      "cell_type": "markdown",
      "metadata": {
        "id": "inCtE9QnAUIA"
      },
      "source": [
        "# Model Train"
      ]
    },
    {
      "cell_type": "markdown",
      "metadata": {
        "id": "eTfoTHeIAkov"
      },
      "source": [
        "Try different batch_size: 32, 64, 128"
      ]
    },
    {
      "cell_type": "code",
      "metadata": {
        "colab": {
          "base_uri": "https://localhost:8080/"
        },
        "id": "oprayiq9yVnG",
        "outputId": "3244aa2b-82da-435b-a089-7684d3ee8dac"
      },
      "source": [
        "batch_size = [32, 64, 128]\n",
        "img_size = [224, 224]\n",
        "epochs = 5\n",
        "\n",
        "for batch in batch_size:\n",
        "  inputs = tf.keras.Input(shape=(img_size[0], img_size[1], 3))\n",
        "  model = tf.keras.Model(inputs=inputs, outputs=my_mobilenet_v1(inputs))\n",
        "\n",
        "  ds_train = dataset_builder(X_train, y_train, img_size=img_size, batch_size=batch)\n",
        "  ds_val = dataset_builder(X_val, y_val, img_size=img_size, batch_size=batch, augment=False)\n",
        "  print('----------------------------------------')\n",
        "  print('Train model with batch size of: ', batch)\n",
        "\n",
        "  # learning rate scheduling\n",
        "  init_lr = 1e-2\n",
        "  decay_steps = epochs\n",
        "  alpha = 1e-2\n",
        "\n",
        "  lr_decayed_fn = tf.keras.optimizers.schedules.CosineDecay(\n",
        "      init_lr, decay_steps, alpha)\n",
        "      \n",
        "  opt = tf.optimizers.Adam(lr_decayed_fn)\n",
        "\n",
        "  loss = tf.keras.losses.MeanSquaredError()\n",
        "\n",
        "  model.compile(loss=loss,\n",
        "                optimizer=opt, \n",
        "                metrics=[tf.keras.metrics.RootMeanSquaredError()])\n",
        "\n",
        "  history = model.fit(ds_train, \n",
        "                    epochs=epochs,\n",
        "                    validation_data=ds_val,\n",
        "                    callbacks=tf.keras.callbacks.EarlyStopping('val_loss', \n",
        "                                                               patience=3,\n",
        "                                                               restore_best_weights=True))\n",
        "  print('Model train with batch size of', batch, 'is complete')\n",
        "  print('----------------------------------------')"
      ],
      "execution_count": 22,
      "outputs": [
        {
          "output_type": "stream",
          "name": "stdout",
          "text": [
            "----------------------------------------\n",
            "Train model with batch size of:  32\n",
            "Epoch 1/5\n",
            "1190/1190 [==============================] - 288s 210ms/step - loss: 0.0441 - root_mean_squared_error: 0.2099 - val_loss: 0.0416 - val_root_mean_squared_error: 0.2040\n",
            "Epoch 2/5\n",
            "1190/1190 [==============================] - 260s 217ms/step - loss: 0.0413 - root_mean_squared_error: 0.2033 - val_loss: 0.0421 - val_root_mean_squared_error: 0.2053\n",
            "Epoch 3/5\n",
            "1190/1190 [==============================] - 262s 219ms/step - loss: 0.0394 - root_mean_squared_error: 0.1984 - val_loss: 0.0451 - val_root_mean_squared_error: 0.2123\n",
            "Epoch 4/5\n",
            "1190/1190 [==============================] - 263s 220ms/step - loss: 0.0353 - root_mean_squared_error: 0.1880 - val_loss: 0.0497 - val_root_mean_squared_error: 0.2230\n",
            "Model train with batch size of 32 is complete\n",
            "----------------------------------------\n",
            "----------------------------------------\n",
            "Train model with batch size of:  64\n",
            "Epoch 1/5\n",
            "595/595 [==============================] - 255s 418ms/step - loss: 0.0429 - root_mean_squared_error: 0.2072 - val_loss: 0.0414 - val_root_mean_squared_error: 0.2036\n",
            "Epoch 2/5\n",
            "595/595 [==============================] - 251s 417ms/step - loss: 0.0410 - root_mean_squared_error: 0.2025 - val_loss: 0.0424 - val_root_mean_squared_error: 0.2058\n",
            "Epoch 3/5\n",
            "595/595 [==============================] - 251s 417ms/step - loss: 0.0397 - root_mean_squared_error: 0.1993 - val_loss: 0.0446 - val_root_mean_squared_error: 0.2112\n",
            "Epoch 4/5\n",
            "595/595 [==============================] - 251s 416ms/step - loss: 0.0357 - root_mean_squared_error: 0.1891 - val_loss: 0.0507 - val_root_mean_squared_error: 0.2252\n",
            "Model train with batch size of 64 is complete\n",
            "----------------------------------------\n",
            "----------------------------------------\n",
            "Train model with batch size of:  128\n",
            "Epoch 1/5\n",
            "298/298 [==============================] - 247s 798ms/step - loss: 0.1829 - root_mean_squared_error: 0.4277 - val_loss: 0.1578 - val_root_mean_squared_error: 0.3972\n",
            "Epoch 2/5\n",
            "298/298 [==============================] - 243s 796ms/step - loss: 0.0433 - root_mean_squared_error: 0.2081 - val_loss: 0.0454 - val_root_mean_squared_error: 0.2130\n",
            "Epoch 3/5\n",
            "298/298 [==============================] - 249s 816ms/step - loss: 0.0408 - root_mean_squared_error: 0.2020 - val_loss: 0.0417 - val_root_mean_squared_error: 0.2041\n",
            "Epoch 4/5\n",
            "298/298 [==============================] - 247s 810ms/step - loss: 0.0379 - root_mean_squared_error: 0.1948 - val_loss: 0.0441 - val_root_mean_squared_error: 0.2099\n",
            "Epoch 5/5\n",
            "298/298 [==============================] - 248s 811ms/step - loss: 0.0339 - root_mean_squared_error: 0.1841 - val_loss: 0.0465 - val_root_mean_squared_error: 0.2156\n",
            "Model train with batch size of 128 is complete\n",
            "----------------------------------------\n"
          ]
        }
      ]
    },
    {
      "cell_type": "markdown",
      "metadata": {
        "id": "rX-9pnKwcn-Q"
      },
      "source": [
        "\n",
        "Conclusion: best batch size is 128\n",
        "\n",
        "---"
      ]
    },
    {
      "cell_type": "markdown",
      "metadata": {
        "id": "ATxMpZOrCSlP"
      },
      "source": [
        "image size other than 224 eats too much ram\n",
        "\n",
        "---\n",
        "\n"
      ]
    },
    {
      "cell_type": "markdown",
      "metadata": {
        "id": "dWCXA9FzEosm"
      },
      "source": [
        "try different numbers of FC neurons: 128, 256, 512, 1024"
      ]
    },
    {
      "cell_type": "code",
      "metadata": {
        "id": "Q0yFQZSryVr1",
        "colab": {
          "base_uri": "https://localhost:8080/",
          "height": 1000
        },
        "outputId": "4c372edb-77e1-49a3-920c-1760ca3a959a"
      },
      "source": [
        "batch_size = 128\n",
        "img_size = [224, 224]\n",
        "num_neurons = [128, 256, 512, 1024]\n",
        "epochs = 5\n",
        "\n",
        "for neuron in num_neurons:\n",
        "  inputs = tf.keras.Input(shape=(img_size[0], img_size[1], 3))\n",
        "  model = tf.keras.Model(inputs=inputs, outputs=my_mobilenet_v1(inputs, \n",
        "                                                                fc_neurons=neuron,\n",
        "                                                                dp=True))\n",
        "\n",
        "  ds_train = dataset_builder(X_train, y_train, img_size=img_size, batch_size=batch_size)\n",
        "  ds_val = dataset_builder(X_val, y_val, img_size=img_size, batch_size=batch_size, augment=False)\n",
        "  print('----------------------------------------')\n",
        "  print('Train model with number of FC neurons: ', neuron)\n",
        "\n",
        "  # learning rate scheduling\n",
        "  init_lr = 1e-2\n",
        "  decay_steps = epochs\n",
        "  alpha = 1e-2\n",
        "\n",
        "  lr_decayed_fn = tf.keras.optimizers.schedules.CosineDecay(\n",
        "      init_lr, decay_steps, alpha)\n",
        "      \n",
        "  opt = tf.optimizers.Adam(lr_decayed_fn)\n",
        "\n",
        "  loss = tf.keras.losses.MeanSquaredError()\n",
        "\n",
        "  model.compile(loss=loss,\n",
        "                optimizer=opt, \n",
        "                metrics=[tf.keras.metrics.RootMeanSquaredError()])\n",
        "\n",
        "  history = model.fit(ds_train, \n",
        "                    epochs=epochs,\n",
        "                    validation_data=ds_val,\n",
        "                    callbacks=tf.keras.callbacks.EarlyStopping('val_loss', \n",
        "                                                               patience=3,\n",
        "                                                               restore_best_weights=True))\n",
        "  print('Model train with number of FC neurons:', neuron, 'is complete')\n",
        "  print('----------------------------------------')"
      ],
      "execution_count": 24,
      "outputs": [
        {
          "output_type": "stream",
          "name": "stdout",
          "text": [
            "----------------------------------------\n",
            "Train model with number of FC neurons:  128\n",
            "Epoch 1/5\n",
            "298/298 [==============================] - 254s 823ms/step - loss: 0.0985 - root_mean_squared_error: 0.3138 - val_loss: 0.0457 - val_root_mean_squared_error: 0.2137\n",
            "Epoch 2/5\n",
            "298/298 [==============================] - 252s 825ms/step - loss: 0.0504 - root_mean_squared_error: 0.2244 - val_loss: 0.0419 - val_root_mean_squared_error: 0.2046\n",
            "Epoch 3/5\n",
            "298/298 [==============================] - 254s 831ms/step - loss: 0.0481 - root_mean_squared_error: 0.2194 - val_loss: 0.0443 - val_root_mean_squared_error: 0.2104\n",
            "Epoch 4/5\n",
            "298/298 [==============================] - 256s 836ms/step - loss: 0.0462 - root_mean_squared_error: 0.2150 - val_loss: 0.0442 - val_root_mean_squared_error: 0.2103\n",
            "Epoch 5/5\n",
            "298/298 [==============================] - 253s 828ms/step - loss: 0.0449 - root_mean_squared_error: 0.2118 - val_loss: 0.0421 - val_root_mean_squared_error: 0.2051\n",
            "Model train with number of FC neurons: 128 is complete\n",
            "----------------------------------------\n",
            "----------------------------------------\n",
            "Train model with number of FC neurons:  256\n",
            "Epoch 1/5\n",
            "298/298 [==============================] - 243s 784ms/step - loss: 0.0879 - root_mean_squared_error: 0.2964 - val_loss: 0.0429 - val_root_mean_squared_error: 0.2072\n",
            "Epoch 2/5\n",
            "298/298 [==============================] - 240s 784ms/step - loss: 0.0489 - root_mean_squared_error: 0.2212 - val_loss: 0.0430 - val_root_mean_squared_error: 0.2074\n",
            "Epoch 3/5\n",
            "298/298 [==============================] - 240s 785ms/step - loss: 0.0469 - root_mean_squared_error: 0.2166 - val_loss: 0.0440 - val_root_mean_squared_error: 0.2097\n",
            "Epoch 4/5\n",
            "298/298 [==============================] - 236s 773ms/step - loss: 0.0445 - root_mean_squared_error: 0.2111 - val_loss: 0.0418 - val_root_mean_squared_error: 0.2044\n",
            "Epoch 5/5\n",
            "298/298 [==============================] - 235s 768ms/step - loss: 0.0429 - root_mean_squared_error: 0.2071 - val_loss: 0.0412 - val_root_mean_squared_error: 0.2031\n",
            "Model train with number of FC neurons: 256 is complete\n",
            "----------------------------------------\n",
            "----------------------------------------\n",
            "Train model with number of FC neurons:  512\n",
            "Epoch 1/5\n",
            "298/298 [==============================] - 237s 767ms/step - loss: 0.1857 - root_mean_squared_error: 0.4309 - val_loss: 0.1842 - val_root_mean_squared_error: 0.4292\n",
            "Epoch 2/5\n",
            "298/298 [==============================] - 234s 767ms/step - loss: 0.1859 - root_mean_squared_error: 0.4312 - val_loss: 0.1842 - val_root_mean_squared_error: 0.4292\n",
            "Epoch 3/5\n",
            "298/298 [==============================] - 235s 768ms/step - loss: 0.1859 - root_mean_squared_error: 0.4312 - val_loss: 0.1842 - val_root_mean_squared_error: 0.4292\n",
            "Epoch 4/5\n",
            "298/298 [==============================] - 240s 785ms/step - loss: 0.1859 - root_mean_squared_error: 0.4312 - val_loss: 0.1842 - val_root_mean_squared_error: 0.4292\n",
            "Epoch 5/5\n",
            "199/298 [===================>..........] - ETA: 1:15 - loss: 0.1854 - root_mean_squared_error: 0.4306"
          ]
        },
        {
          "output_type": "error",
          "ename": "KeyboardInterrupt",
          "evalue": "ignored",
          "traceback": [
            "\u001b[0;31m---------------------------------------------------------------------------\u001b[0m",
            "\u001b[0;31mKeyboardInterrupt\u001b[0m                         Traceback (most recent call last)",
            "\u001b[0;32m<ipython-input-24-7039765db24f>\u001b[0m in \u001b[0;36m<module>\u001b[0;34m()\u001b[0m\n\u001b[1;32m     36\u001b[0m                     callbacks=tf.keras.callbacks.EarlyStopping('val_loss', \n\u001b[1;32m     37\u001b[0m                                                                \u001b[0mpatience\u001b[0m\u001b[0;34m=\u001b[0m\u001b[0;36m3\u001b[0m\u001b[0;34m,\u001b[0m\u001b[0;34m\u001b[0m\u001b[0;34m\u001b[0m\u001b[0m\n\u001b[0;32m---> 38\u001b[0;31m                                                                restore_best_weights=True))\n\u001b[0m\u001b[1;32m     39\u001b[0m   \u001b[0mprint\u001b[0m\u001b[0;34m(\u001b[0m\u001b[0;34m'Model train with number of FC neurons:'\u001b[0m\u001b[0;34m,\u001b[0m \u001b[0mneuron\u001b[0m\u001b[0;34m,\u001b[0m \u001b[0;34m'is complete'\u001b[0m\u001b[0;34m)\u001b[0m\u001b[0;34m\u001b[0m\u001b[0;34m\u001b[0m\u001b[0m\n\u001b[1;32m     40\u001b[0m   \u001b[0mprint\u001b[0m\u001b[0;34m(\u001b[0m\u001b[0;34m'----------------------------------------'\u001b[0m\u001b[0;34m)\u001b[0m\u001b[0;34m\u001b[0m\u001b[0;34m\u001b[0m\u001b[0m\n",
            "\u001b[0;32m/usr/local/lib/python3.7/dist-packages/keras/utils/traceback_utils.py\u001b[0m in \u001b[0;36merror_handler\u001b[0;34m(*args, **kwargs)\u001b[0m\n\u001b[1;32m     62\u001b[0m     \u001b[0mfiltered_tb\u001b[0m \u001b[0;34m=\u001b[0m \u001b[0;32mNone\u001b[0m\u001b[0;34m\u001b[0m\u001b[0;34m\u001b[0m\u001b[0m\n\u001b[1;32m     63\u001b[0m     \u001b[0;32mtry\u001b[0m\u001b[0;34m:\u001b[0m\u001b[0;34m\u001b[0m\u001b[0;34m\u001b[0m\u001b[0m\n\u001b[0;32m---> 64\u001b[0;31m       \u001b[0;32mreturn\u001b[0m \u001b[0mfn\u001b[0m\u001b[0;34m(\u001b[0m\u001b[0;34m*\u001b[0m\u001b[0margs\u001b[0m\u001b[0;34m,\u001b[0m \u001b[0;34m**\u001b[0m\u001b[0mkwargs\u001b[0m\u001b[0;34m)\u001b[0m\u001b[0;34m\u001b[0m\u001b[0;34m\u001b[0m\u001b[0m\n\u001b[0m\u001b[1;32m     65\u001b[0m     \u001b[0;32mexcept\u001b[0m \u001b[0mException\u001b[0m \u001b[0;32mas\u001b[0m \u001b[0me\u001b[0m\u001b[0;34m:\u001b[0m  \u001b[0;31m# pylint: disable=broad-except\u001b[0m\u001b[0;34m\u001b[0m\u001b[0;34m\u001b[0m\u001b[0m\n\u001b[1;32m     66\u001b[0m       \u001b[0mfiltered_tb\u001b[0m \u001b[0;34m=\u001b[0m \u001b[0m_process_traceback_frames\u001b[0m\u001b[0;34m(\u001b[0m\u001b[0me\u001b[0m\u001b[0;34m.\u001b[0m\u001b[0m__traceback__\u001b[0m\u001b[0;34m)\u001b[0m\u001b[0;34m\u001b[0m\u001b[0;34m\u001b[0m\u001b[0m\n",
            "\u001b[0;32m/usr/local/lib/python3.7/dist-packages/keras/engine/training.py\u001b[0m in \u001b[0;36mfit\u001b[0;34m(self, x, y, batch_size, epochs, verbose, callbacks, validation_split, validation_data, shuffle, class_weight, sample_weight, initial_epoch, steps_per_epoch, validation_steps, validation_batch_size, validation_freq, max_queue_size, workers, use_multiprocessing)\u001b[0m\n\u001b[1;32m   1214\u001b[0m                 _r=1):\n\u001b[1;32m   1215\u001b[0m               \u001b[0mcallbacks\u001b[0m\u001b[0;34m.\u001b[0m\u001b[0mon_train_batch_begin\u001b[0m\u001b[0;34m(\u001b[0m\u001b[0mstep\u001b[0m\u001b[0;34m)\u001b[0m\u001b[0;34m\u001b[0m\u001b[0;34m\u001b[0m\u001b[0m\n\u001b[0;32m-> 1216\u001b[0;31m               \u001b[0mtmp_logs\u001b[0m \u001b[0;34m=\u001b[0m \u001b[0mself\u001b[0m\u001b[0;34m.\u001b[0m\u001b[0mtrain_function\u001b[0m\u001b[0;34m(\u001b[0m\u001b[0miterator\u001b[0m\u001b[0;34m)\u001b[0m\u001b[0;34m\u001b[0m\u001b[0;34m\u001b[0m\u001b[0m\n\u001b[0m\u001b[1;32m   1217\u001b[0m               \u001b[0;32mif\u001b[0m \u001b[0mdata_handler\u001b[0m\u001b[0;34m.\u001b[0m\u001b[0mshould_sync\u001b[0m\u001b[0;34m:\u001b[0m\u001b[0;34m\u001b[0m\u001b[0;34m\u001b[0m\u001b[0m\n\u001b[1;32m   1218\u001b[0m                 \u001b[0mcontext\u001b[0m\u001b[0;34m.\u001b[0m\u001b[0masync_wait\u001b[0m\u001b[0;34m(\u001b[0m\u001b[0;34m)\u001b[0m\u001b[0;34m\u001b[0m\u001b[0;34m\u001b[0m\u001b[0m\n",
            "\u001b[0;32m/usr/local/lib/python3.7/dist-packages/tensorflow/python/util/traceback_utils.py\u001b[0m in \u001b[0;36merror_handler\u001b[0;34m(*args, **kwargs)\u001b[0m\n\u001b[1;32m    148\u001b[0m     \u001b[0mfiltered_tb\u001b[0m \u001b[0;34m=\u001b[0m \u001b[0;32mNone\u001b[0m\u001b[0;34m\u001b[0m\u001b[0;34m\u001b[0m\u001b[0m\n\u001b[1;32m    149\u001b[0m     \u001b[0;32mtry\u001b[0m\u001b[0;34m:\u001b[0m\u001b[0;34m\u001b[0m\u001b[0;34m\u001b[0m\u001b[0m\n\u001b[0;32m--> 150\u001b[0;31m       \u001b[0;32mreturn\u001b[0m \u001b[0mfn\u001b[0m\u001b[0;34m(\u001b[0m\u001b[0;34m*\u001b[0m\u001b[0margs\u001b[0m\u001b[0;34m,\u001b[0m \u001b[0;34m**\u001b[0m\u001b[0mkwargs\u001b[0m\u001b[0;34m)\u001b[0m\u001b[0;34m\u001b[0m\u001b[0;34m\u001b[0m\u001b[0m\n\u001b[0m\u001b[1;32m    151\u001b[0m     \u001b[0;32mexcept\u001b[0m \u001b[0mException\u001b[0m \u001b[0;32mas\u001b[0m \u001b[0me\u001b[0m\u001b[0;34m:\u001b[0m\u001b[0;34m\u001b[0m\u001b[0;34m\u001b[0m\u001b[0m\n\u001b[1;32m    152\u001b[0m       \u001b[0mfiltered_tb\u001b[0m \u001b[0;34m=\u001b[0m \u001b[0m_process_traceback_frames\u001b[0m\u001b[0;34m(\u001b[0m\u001b[0me\u001b[0m\u001b[0;34m.\u001b[0m\u001b[0m__traceback__\u001b[0m\u001b[0;34m)\u001b[0m\u001b[0;34m\u001b[0m\u001b[0;34m\u001b[0m\u001b[0m\n",
            "\u001b[0;32m/usr/local/lib/python3.7/dist-packages/tensorflow/python/eager/def_function.py\u001b[0m in \u001b[0;36m__call__\u001b[0;34m(self, *args, **kwds)\u001b[0m\n\u001b[1;32m    908\u001b[0m \u001b[0;34m\u001b[0m\u001b[0m\n\u001b[1;32m    909\u001b[0m       \u001b[0;32mwith\u001b[0m \u001b[0mOptionalXlaContext\u001b[0m\u001b[0;34m(\u001b[0m\u001b[0mself\u001b[0m\u001b[0;34m.\u001b[0m\u001b[0m_jit_compile\u001b[0m\u001b[0;34m)\u001b[0m\u001b[0;34m:\u001b[0m\u001b[0;34m\u001b[0m\u001b[0;34m\u001b[0m\u001b[0m\n\u001b[0;32m--> 910\u001b[0;31m         \u001b[0mresult\u001b[0m \u001b[0;34m=\u001b[0m \u001b[0mself\u001b[0m\u001b[0;34m.\u001b[0m\u001b[0m_call\u001b[0m\u001b[0;34m(\u001b[0m\u001b[0;34m*\u001b[0m\u001b[0margs\u001b[0m\u001b[0;34m,\u001b[0m \u001b[0;34m**\u001b[0m\u001b[0mkwds\u001b[0m\u001b[0;34m)\u001b[0m\u001b[0;34m\u001b[0m\u001b[0;34m\u001b[0m\u001b[0m\n\u001b[0m\u001b[1;32m    911\u001b[0m \u001b[0;34m\u001b[0m\u001b[0m\n\u001b[1;32m    912\u001b[0m       \u001b[0mnew_tracing_count\u001b[0m \u001b[0;34m=\u001b[0m \u001b[0mself\u001b[0m\u001b[0;34m.\u001b[0m\u001b[0mexperimental_get_tracing_count\u001b[0m\u001b[0;34m(\u001b[0m\u001b[0;34m)\u001b[0m\u001b[0;34m\u001b[0m\u001b[0;34m\u001b[0m\u001b[0m\n",
            "\u001b[0;32m/usr/local/lib/python3.7/dist-packages/tensorflow/python/eager/def_function.py\u001b[0m in \u001b[0;36m_call\u001b[0;34m(self, *args, **kwds)\u001b[0m\n\u001b[1;32m    940\u001b[0m       \u001b[0;31m# In this case we have created variables on the first call, so we run the\u001b[0m\u001b[0;34m\u001b[0m\u001b[0;34m\u001b[0m\u001b[0;34m\u001b[0m\u001b[0m\n\u001b[1;32m    941\u001b[0m       \u001b[0;31m# defunned version which is guaranteed to never create variables.\u001b[0m\u001b[0;34m\u001b[0m\u001b[0;34m\u001b[0m\u001b[0;34m\u001b[0m\u001b[0m\n\u001b[0;32m--> 942\u001b[0;31m       \u001b[0;32mreturn\u001b[0m \u001b[0mself\u001b[0m\u001b[0;34m.\u001b[0m\u001b[0m_stateless_fn\u001b[0m\u001b[0;34m(\u001b[0m\u001b[0;34m*\u001b[0m\u001b[0margs\u001b[0m\u001b[0;34m,\u001b[0m \u001b[0;34m**\u001b[0m\u001b[0mkwds\u001b[0m\u001b[0;34m)\u001b[0m  \u001b[0;31m# pylint: disable=not-callable\u001b[0m\u001b[0;34m\u001b[0m\u001b[0;34m\u001b[0m\u001b[0m\n\u001b[0m\u001b[1;32m    943\u001b[0m     \u001b[0;32melif\u001b[0m \u001b[0mself\u001b[0m\u001b[0;34m.\u001b[0m\u001b[0m_stateful_fn\u001b[0m \u001b[0;32mis\u001b[0m \u001b[0;32mnot\u001b[0m \u001b[0;32mNone\u001b[0m\u001b[0;34m:\u001b[0m\u001b[0;34m\u001b[0m\u001b[0;34m\u001b[0m\u001b[0m\n\u001b[1;32m    944\u001b[0m       \u001b[0;31m# Release the lock early so that multiple threads can perform the call\u001b[0m\u001b[0;34m\u001b[0m\u001b[0;34m\u001b[0m\u001b[0;34m\u001b[0m\u001b[0m\n",
            "\u001b[0;32m/usr/local/lib/python3.7/dist-packages/tensorflow/python/eager/function.py\u001b[0m in \u001b[0;36m__call__\u001b[0;34m(self, *args, **kwargs)\u001b[0m\n\u001b[1;32m   3129\u001b[0m        filtered_flat_args) = self._maybe_define_function(args, kwargs)\n\u001b[1;32m   3130\u001b[0m     return graph_function._call_flat(\n\u001b[0;32m-> 3131\u001b[0;31m         filtered_flat_args, captured_inputs=graph_function.captured_inputs)  # pylint: disable=protected-access\n\u001b[0m\u001b[1;32m   3132\u001b[0m \u001b[0;34m\u001b[0m\u001b[0m\n\u001b[1;32m   3133\u001b[0m   \u001b[0;34m@\u001b[0m\u001b[0mproperty\u001b[0m\u001b[0;34m\u001b[0m\u001b[0;34m\u001b[0m\u001b[0m\n",
            "\u001b[0;32m/usr/local/lib/python3.7/dist-packages/tensorflow/python/eager/function.py\u001b[0m in \u001b[0;36m_call_flat\u001b[0;34m(self, args, captured_inputs, cancellation_manager)\u001b[0m\n\u001b[1;32m   1958\u001b[0m       \u001b[0;31m# No tape is watching; skip to running the function.\u001b[0m\u001b[0;34m\u001b[0m\u001b[0;34m\u001b[0m\u001b[0;34m\u001b[0m\u001b[0m\n\u001b[1;32m   1959\u001b[0m       return self._build_call_outputs(self._inference_function.call(\n\u001b[0;32m-> 1960\u001b[0;31m           ctx, args, cancellation_manager=cancellation_manager))\n\u001b[0m\u001b[1;32m   1961\u001b[0m     forward_backward = self._select_forward_and_backward_functions(\n\u001b[1;32m   1962\u001b[0m         \u001b[0margs\u001b[0m\u001b[0;34m,\u001b[0m\u001b[0;34m\u001b[0m\u001b[0;34m\u001b[0m\u001b[0m\n",
            "\u001b[0;32m/usr/local/lib/python3.7/dist-packages/tensorflow/python/eager/function.py\u001b[0m in \u001b[0;36mcall\u001b[0;34m(self, ctx, args, cancellation_manager)\u001b[0m\n\u001b[1;32m    601\u001b[0m               \u001b[0minputs\u001b[0m\u001b[0;34m=\u001b[0m\u001b[0margs\u001b[0m\u001b[0;34m,\u001b[0m\u001b[0;34m\u001b[0m\u001b[0;34m\u001b[0m\u001b[0m\n\u001b[1;32m    602\u001b[0m               \u001b[0mattrs\u001b[0m\u001b[0;34m=\u001b[0m\u001b[0mattrs\u001b[0m\u001b[0;34m,\u001b[0m\u001b[0;34m\u001b[0m\u001b[0;34m\u001b[0m\u001b[0m\n\u001b[0;32m--> 603\u001b[0;31m               ctx=ctx)\n\u001b[0m\u001b[1;32m    604\u001b[0m         \u001b[0;32melse\u001b[0m\u001b[0;34m:\u001b[0m\u001b[0;34m\u001b[0m\u001b[0;34m\u001b[0m\u001b[0m\n\u001b[1;32m    605\u001b[0m           outputs = execute.execute_with_cancellation(\n",
            "\u001b[0;32m/usr/local/lib/python3.7/dist-packages/tensorflow/python/eager/execute.py\u001b[0m in \u001b[0;36mquick_execute\u001b[0;34m(op_name, num_outputs, inputs, attrs, ctx, name)\u001b[0m\n\u001b[1;32m     57\u001b[0m     \u001b[0mctx\u001b[0m\u001b[0;34m.\u001b[0m\u001b[0mensure_initialized\u001b[0m\u001b[0;34m(\u001b[0m\u001b[0;34m)\u001b[0m\u001b[0;34m\u001b[0m\u001b[0;34m\u001b[0m\u001b[0m\n\u001b[1;32m     58\u001b[0m     tensors = pywrap_tfe.TFE_Py_Execute(ctx._handle, device_name, op_name,\n\u001b[0;32m---> 59\u001b[0;31m                                         inputs, attrs, num_outputs)\n\u001b[0m\u001b[1;32m     60\u001b[0m   \u001b[0;32mexcept\u001b[0m \u001b[0mcore\u001b[0m\u001b[0;34m.\u001b[0m\u001b[0m_NotOkStatusException\u001b[0m \u001b[0;32mas\u001b[0m \u001b[0me\u001b[0m\u001b[0;34m:\u001b[0m\u001b[0;34m\u001b[0m\u001b[0;34m\u001b[0m\u001b[0m\n\u001b[1;32m     61\u001b[0m     \u001b[0;32mif\u001b[0m \u001b[0mname\u001b[0m \u001b[0;32mis\u001b[0m \u001b[0;32mnot\u001b[0m \u001b[0;32mNone\u001b[0m\u001b[0;34m:\u001b[0m\u001b[0;34m\u001b[0m\u001b[0;34m\u001b[0m\u001b[0m\n",
            "\u001b[0;31mKeyboardInterrupt\u001b[0m: "
          ]
        }
      ]
    },
    {
      "cell_type": "markdown",
      "metadata": {
        "id": "gDSBmlbH8zJh"
      },
      "source": [
        "Conclusion: number of neurons higher than 256 shows poor performance.\n",
        "\n",
        "---"
      ]
    },
    {
      "cell_type": "markdown",
      "metadata": {
        "id": "iisaag4GGvH4"
      },
      "source": [
        "Try Batch Normalization"
      ]
    },
    {
      "cell_type": "code",
      "metadata": {
        "id": "YKtNVUlryVt4",
        "colab": {
          "base_uri": "https://localhost:8080/"
        },
        "outputId": "ad6ed54e-3759-451a-a289-87b9506c015a"
      },
      "source": [
        "# batch_size = 128\n",
        "# img_size = [224, 224]\n",
        "# num_neurons = 512\n",
        "# bn = True\n",
        "# epochs = 10\n",
        "\n",
        "# inputs = tf.keras.Input(shape=(img_size[0], img_size[1], 3))\n",
        "# model = tf.keras.Model(inputs=inputs, outputs=my_mobilenet_v1(inputs, \n",
        "#                                                               num_neurons, \n",
        "#                                                               bn=bn))\n",
        "# print('----------------------------------------')\n",
        "# print('Train model with bn')\n",
        "\n",
        "# # learning rate scheduling\n",
        "# init_lr = 1e-2\n",
        "# decay_steps = epochs\n",
        "# alpha = 1e-2\n",
        "\n",
        "# lr_decayed_fn = tf.keras.optimizers.schedules.CosineDecay(\n",
        "#     init_lr, decay_steps, alpha)\n",
        "    \n",
        "# opt = tf.optimizers.Adam(lr_decayed_fn)\n",
        "\n",
        "# loss = tf.keras.losses.MeanSquaredError()\n",
        "\n",
        "# model.compile(loss=loss,\n",
        "#               optimizer=opt, \n",
        "#               metrics=[tf.keras.metrics.RootMeanSquaredError()])\n",
        "\n",
        "# history = model.fit(ds_train, \n",
        "#                   epochs=epochs,\n",
        "#                   validation_data=ds_val,\n",
        "#                   callbacks=tf.keras.callbacks.EarlyStopping('val_loss', \n",
        "#                                                               patience=3,\n",
        "#                                                               restore_best_weights=True))\n",
        "# print('Model train with bn is complete')\n",
        "# print('----------------------------------------')"
      ],
      "execution_count": null,
      "outputs": [
        {
          "output_type": "stream",
          "name": "stdout",
          "text": [
            "----------------------------------------\n",
            "Train model with bn\n",
            "Epoch 1/5\n",
            "298/298 [==============================] - 264s 851ms/step - loss: 0.7714 - root_mean_squared_error: 0.2526 - val_loss: 0.6650 - val_root_mean_squared_error: 0.2041\n",
            "Epoch 2/5\n",
            "298/298 [==============================] - 259s 847ms/step - loss: 0.6637 - root_mean_squared_error: 0.2040 - val_loss: 0.6911 - val_root_mean_squared_error: 0.2344\n",
            "Epoch 3/5\n",
            "298/298 [==============================] - 259s 846ms/step - loss: 0.6597 - root_mean_squared_error: 0.1991 - val_loss: 0.6685 - val_root_mean_squared_error: 0.2082\n",
            "Epoch 4/5\n",
            "298/298 [==============================] - 257s 841ms/step - loss: 0.6538 - root_mean_squared_error: 0.1919 - val_loss: 0.6806 - val_root_mean_squared_error: 0.2164\n",
            "Model train with bn is complete\n",
            "----------------------------------------\n"
          ]
        }
      ]
    },
    {
      "cell_type": "markdown",
      "metadata": {
        "id": "MtHFQ3GA87X0"
      },
      "source": [
        "Conclusion: bn for last 2 fc layers does not show better performance\n",
        "\n",
        "---"
      ]
    },
    {
      "cell_type": "code",
      "metadata": {
        "id": "_xrrA6XV9Xjo"
      },
      "source": [
        "import matplotlib.pyplot as plt\n",
        "def plot_rmse_loss(history):\n",
        "  fig, axs = plt.subplots(1,2,figsize=(15,5)) \n",
        "\n",
        "  # validation acc and train acc\n",
        "  axs[0].plot(history.history['root_mean_squared_error']) \n",
        "  axs[0].plot(history.history['val_root_mean_squared_error']) \n",
        "  axs[0].set_title('Validation & Train RMSE')\n",
        "  axs[0].set_ylabel('RMSE') \n",
        "  axs[0].set_xlabel('Epoch')\n",
        "  axs[0].legend(['Train', 'validation'], loc='upper left')\n",
        "\n",
        "  # validation loss and train loss\n",
        "  axs[1].plot(history.history['loss']) \n",
        "  axs[1].plot(history.history['val_loss']) \n",
        "  axs[1].set_title('Validation & Train Loss')\n",
        "  axs[1].set_ylabel('Loss') \n",
        "  axs[1].set_xlabel('Epoch')\n",
        "  axs[1].legend(['Train', 'validation'], loc='upper right')\n",
        "\n",
        "  plt.show()"
      ],
      "execution_count": 27,
      "outputs": []
    },
    {
      "cell_type": "markdown",
      "metadata": {
        "id": "icEUP05OdRBI"
      },
      "source": [
        "Train the whole network\n",
        "\n",
        "Then freeze the mobilenet \n",
        "\n",
        "apply dropout to fc layers with dp_rate = 0.5"
      ]
    },
    {
      "cell_type": "code",
      "metadata": {
        "id": "MVKwqNC4yVyc"
      },
      "source": [
        "def freeze_layers(model):\n",
        "  for layer in model.layers[:-9]:\n",
        "    layer.trainable = False\n",
        "\n",
        "  # learning rate scheduling\n",
        "  init_lr = 1e-2\n",
        "  decay_steps = 20\n",
        "  alpha = 1e-2\n",
        "\n",
        "  lr_decayed_fn = tf.keras.optimizers.schedules.CosineDecay(\n",
        "      init_lr, decay_steps, alpha)\n",
        "      \n",
        "  opt = tf.optimizers.Adam(lr_decayed_fn)\n",
        "\n",
        "  loss = tf.keras.losses.MeanSquaredError()\n",
        "\n",
        "  model.compile(loss=loss,\n",
        "                optimizer=opt, \n",
        "                metrics=[tf.keras.metrics.RootMeanSquaredError()])"
      ],
      "execution_count": 17,
      "outputs": []
    },
    {
      "cell_type": "code",
      "metadata": {
        "id": "V214JzuZyV3Y",
        "colab": {
          "base_uri": "https://localhost:8080/"
        },
        "outputId": "e23d5944-979c-4e81-f855-736e9573cdd2"
      },
      "source": [
        "batch_size = 128\n",
        "img_size = [224, 224]\n",
        "num_neurons = 256\n",
        "bn = False\n",
        "dp = True\n",
        "dp_rate = 0.5\n",
        "epochs = 10\n",
        "\n",
        "inputs = tf.keras.Input(shape=(img_size[0], img_size[1], 3))\n",
        "model = tf.keras.Model(inputs=inputs, outputs=my_mobilenet_v1(inputs, \n",
        "                                                              fc_neurons=256,\n",
        "                                                              dp=True))\n",
        "\n",
        "print('----------------------------------------')\n",
        "print('Train model with mobilenet')\n",
        "\n",
        "# learning rate scheduling\n",
        "init_lr = 1e-2\n",
        "decay_steps = epochs\n",
        "alpha = 1e-2\n",
        "\n",
        "lr_decayed_fn = tf.keras.optimizers.schedules.CosineDecay(\n",
        "    init_lr, decay_steps, alpha)\n",
        "    \n",
        "opt = tf.optimizers.Adam(lr_decayed_fn)\n",
        "\n",
        "loss = tf.keras.losses.MeanSquaredError()\n",
        "\n",
        "model.compile(loss=loss,\n",
        "              optimizer=opt, \n",
        "              metrics=[tf.keras.metrics.RootMeanSquaredError()])\n",
        "\n",
        "history = model.fit(ds_train, \n",
        "                  epochs=epochs,\n",
        "                  validation_data=ds_val,\n",
        "                  callbacks=tf.keras.callbacks.EarlyStopping('val_loss', \n",
        "                                                               patience=3,\n",
        "                                                               restore_best_weights=True))\n",
        "print('Model train completed')\n",
        "print('----------------------------------------')"
      ],
      "execution_count": 32,
      "outputs": [
        {
          "output_type": "stream",
          "name": "stdout",
          "text": [
            "----------------------------------------\n",
            "Train model with mobilenet\n",
            "Epoch 1/10\n",
            "298/298 [==============================] - 250s 807ms/step - loss: 0.0839 - root_mean_squared_error: 0.2897 - val_loss: 0.0522 - val_root_mean_squared_error: 0.2285\n",
            "Epoch 2/10\n",
            "298/298 [==============================] - 247s 809ms/step - loss: 0.0507 - root_mean_squared_error: 0.2252 - val_loss: 0.0416 - val_root_mean_squared_error: 0.2041\n",
            "Epoch 3/10\n",
            "298/298 [==============================] - 248s 814ms/step - loss: 0.0471 - root_mean_squared_error: 0.2169 - val_loss: 0.0503 - val_root_mean_squared_error: 0.2243\n",
            "Epoch 4/10\n",
            "298/298 [==============================] - 248s 813ms/step - loss: 0.0458 - root_mean_squared_error: 0.2140 - val_loss: 0.0424 - val_root_mean_squared_error: 0.2059\n",
            "Epoch 5/10\n",
            "298/298 [==============================] - 243s 796ms/step - loss: 0.0436 - root_mean_squared_error: 0.2088 - val_loss: 0.0426 - val_root_mean_squared_error: 0.2065\n",
            "Model train completed\n",
            "----------------------------------------\n"
          ]
        }
      ]
    },
    {
      "cell_type": "code",
      "metadata": {
        "id": "tvtG3ahNyV5l",
        "colab": {
          "base_uri": "https://localhost:8080/",
          "height": 350
        },
        "outputId": "1a285f48-4950-4565-ef96-e11e780c176c"
      },
      "source": [
        "plot_rmse_loss(history)"
      ],
      "execution_count": 33,
      "outputs": [
        {
          "output_type": "display_data",
          "data": {
            "image/png": "[encoded data removed]",
            "text/plain": [
              "<Figure size 1080x360 with 2 Axes>"
            ]
          },
          "metadata": {
            "needs_background": "light"
          }
        }
      ]
    },
    {
      "cell_type": "markdown",
      "metadata": {
        "id": "l5RkHZEuNFaB"
      },
      "source": [
        "Freeze mobilenet"
      ]
    },
    {
      "cell_type": "code",
      "metadata": {
        "colab": {
          "base_uri": "https://localhost:8080/"
        },
        "id": "dkAHoRO7NE15",
        "outputId": "9154c338-18bc-43dd-88d3-25a8d1c9caf2"
      },
      "source": [
        "freeze_layers(model)\n",
        "history = model.fit(ds_train, \n",
        "                  epochs=epochs,\n",
        "                  validation_data=ds_val,\n",
        "                  callbacks=tf.keras.callbacks.EarlyStopping('val_loss', \n",
        "                                                              patience=3,\n",
        "                                                              restore_best_weights=True))"
      ],
      "execution_count": 34,
      "outputs": [
        {
          "output_type": "stream",
          "name": "stdout",
          "text": [
            "Epoch 1/10\n",
            "298/298 [==============================] - 196s 633ms/step - loss: 0.0433 - root_mean_squared_error: 0.2081 - val_loss: 0.0428 - val_root_mean_squared_error: 0.2069\n",
            "Epoch 2/10\n",
            "298/298 [==============================] - 194s 632ms/step - loss: 0.0428 - root_mean_squared_error: 0.2070 - val_loss: 0.0430 - val_root_mean_squared_error: 0.2073\n",
            "Epoch 3/10\n",
            "298/298 [==============================] - 199s 648ms/step - loss: 0.0428 - root_mean_squared_error: 0.2068 - val_loss: 0.0432 - val_root_mean_squared_error: 0.2078\n",
            "Epoch 4/10\n",
            "298/298 [==============================] - 202s 657ms/step - loss: 0.0426 - root_mean_squared_error: 0.2065 - val_loss: 0.0431 - val_root_mean_squared_error: 0.2076\n"
          ]
        }
      ]
    },
    {
      "cell_type": "code",
      "metadata": {
        "colab": {
          "base_uri": "https://localhost:8080/",
          "height": 350
        },
        "id": "xcxI5inFNHaJ",
        "outputId": "ed8f1ea2-5eac-4bf2-e562-39f8097365db"
      },
      "source": [
        "plot_rmse_loss(history)"
      ],
      "execution_count": 35,
      "outputs": [
        {
          "output_type": "display_data",
          "data": {
            "image/png": "[encoded data removed]",
            "text/plain": [
              "<Figure size 1080x360 with 2 Axes>"
            ]
          },
          "metadata": {
            "needs_background": "light"
          }
        }
      ]
    },
    {
      "cell_type": "code",
      "source": [
        "loss, rmse = model.evaluate(ds_test)\n",
        "print('Test set RMSE is:', rmse)"
      ],
      "metadata": {
        "colab": {
          "base_uri": "https://localhost:8080/"
        },
        "id": "zRvQagnUarxZ",
        "outputId": "65333ce9-49d2-4701-e105-50a6e34ad0c4"
      },
      "execution_count": 36,
      "outputs": [
        {
          "output_type": "stream",
          "name": "stdout",
          "text": [
            "16/16 [==============================] - 254s 5s/step - loss: 0.0459 - root_mean_squared_error: 0.2142\n",
            "Test set RMSE is: 0.21420536935329437\n"
          ]
        }
      ]
    },
    {
      "cell_type": "markdown",
      "metadata": {
        "id": "f9VBbX2wYn7O"
      },
      "source": [
        "Try TensorFlow MobileNetV2"
      ]
    },
    {
      "cell_type": "code",
      "metadata": {
        "id": "8h5sbE2-otn6"
      },
      "source": [
        "from tensorflow.keras.models import Sequential\n",
        "from tensorflow.keras import layers"
      ],
      "execution_count": null,
      "outputs": []
    },
    {
      "cell_type": "code",
      "metadata": {
        "colab": {
          "base_uri": "https://localhost:8080/"
        },
        "id": "xQuFXbSwMUe4",
        "outputId": "4f608e64-fb26-4165-820a-ee6edf1553d2"
      },
      "source": [
        "batch_size = 128\n",
        "img_size = [224, 224]\n",
        "\n",
        "base_model = tf.keras.applications.mobilenet_v2.MobileNetV2(\n",
        "    input_shape=(img_size[0], img_size[1], 3), \n",
        "    include_top=False)\n",
        "# freeze mobilenet layers\n",
        "base_model.trainable = False\n",
        "\n",
        "model = Sequential()\n",
        "model.add(base_model)\n",
        "model.add(layers.GlobalAveragePooling2D())\n",
        "model.add(layers.Dropout(0.5))\n",
        "model.add(layers.Dense(512, activation='relu'))\n",
        "model.add(layers.Dropout(0.5))\n",
        "model.add(layers.Dense(512, activation='relu'))\n",
        "model.add(layers.Dropout(0.5))\n",
        "model.add(layers.Dense(1, activation='sigmoid'))\n",
        "\n",
        "# learning rate scheduling\n",
        "init_lr = 1e-2\n",
        "decay_steps = 20\n",
        "alpha = 1e-2\n",
        "\n",
        "lr_decayed_fn = tf.keras.optimizers.schedules.CosineDecay(\n",
        "    init_lr, decay_steps, alpha)\n",
        "    \n",
        "opt = tf.optimizers.Adam(lr_decayed_fn)\n",
        "\n",
        "loss = tf.keras.losses.MeanSquaredError()\n",
        "\n",
        "model.compile(loss=loss, optimizer=opt, \n",
        "              metrics=[tf.keras.metrics.RootMeanSquaredError()])\n",
        "model.summary()"
      ],
      "execution_count": null,
      "outputs": [
        {
          "output_type": "stream",
          "name": "stdout",
          "text": [
            "Model: \"sequential_6\"\n",
            "_________________________________________________________________\n",
            " Layer (type)                Output Shape              Param #   \n",
            "=================================================================\n",
            " mobilenetv2_1.00_224 (Funct  (None, 7, 7, 1280)       2257984   \n",
            " ional)                                                          \n",
            "                                                                 \n",
            " global_average_pooling2d_24  (None, 1280)             0         \n",
            "  (GlobalAveragePooling2D)                                       \n",
            "                                                                 \n",
            " dropout_30 (Dropout)        (None, 1280)              0         \n",
            "                                                                 \n",
            " dense_72 (Dense)            (None, 512)               655872    \n",
            "                                                                 \n",
            " dropout_31 (Dropout)        (None, 512)               0         \n",
            "                                                                 \n",
            " dense_73 (Dense)            (None, 512)               262656    \n",
            "                                                                 \n",
            " dropout_32 (Dropout)        (None, 512)               0         \n",
            "                                                                 \n",
            " dense_74 (Dense)            (None, 1)                 513       \n",
            "                                                                 \n",
            "=================================================================\n",
            "Total params: 3,177,025\n",
            "Trainable params: 919,041\n",
            "Non-trainable params: 2,257,984\n",
            "_________________________________________________________________\n"
          ]
        }
      ]
    },
    {
      "cell_type": "code",
      "metadata": {
        "colab": {
          "base_uri": "https://localhost:8080/"
        },
        "id": "TpTczcOMMUhR",
        "outputId": "c3186397-1f0f-431e-8f85-4f822af79923"
      },
      "source": [
        "history = model.fit(ds_train, \n",
        "                    epochs=20, \n",
        "                    steps_per_epoch=len(ds_train), \n",
        "                    validation_data=ds_val,\n",
        "                    callbacks=tf.keras.callbacks.EarlyStopping('val_loss', \n",
        "                                                               patience=3,\n",
        "                                                               restore_best_weights=True))"
      ],
      "execution_count": null,
      "outputs": [
        {
          "output_type": "stream",
          "name": "stdout",
          "text": [
            "Epoch 1/20\n",
            "298/298 [==============================] - 211s 677ms/step - loss: 0.7822 - root_mean_squared_error: 0.2205 - val_loss: 0.6652 - val_root_mean_squared_error: 0.2046\n",
            "Epoch 2/20\n",
            "298/298 [==============================] - 205s 668ms/step - loss: 0.6654 - root_mean_squared_error: 0.2059 - val_loss: 0.6645 - val_root_mean_squared_error: 0.2038\n",
            "Epoch 3/20\n",
            "298/298 [==============================] - 204s 664ms/step - loss: 0.6628 - root_mean_squared_error: 0.2028 - val_loss: 0.6646 - val_root_mean_squared_error: 0.2040\n",
            "Epoch 4/20\n",
            "298/298 [==============================] - 205s 669ms/step - loss: 0.6617 - root_mean_squared_error: 0.2015 - val_loss: 0.6641 - val_root_mean_squared_error: 0.2034\n",
            "Epoch 5/20\n",
            "298/298 [==============================] - 203s 661ms/step - loss: 0.6604 - root_mean_squared_error: 0.1999 - val_loss: 0.6635 - val_root_mean_squared_error: 0.2026\n",
            "Epoch 6/20\n",
            "298/298 [==============================] - 204s 665ms/step - loss: 0.6594 - root_mean_squared_error: 0.1987 - val_loss: 0.6631 - val_root_mean_squared_error: 0.2021\n",
            "Epoch 7/20\n",
            "298/298 [==============================] - 205s 668ms/step - loss: 0.6587 - root_mean_squared_error: 0.1978 - val_loss: 0.6620 - val_root_mean_squared_error: 0.2007\n",
            "Epoch 8/20\n",
            "298/298 [==============================] - 204s 664ms/step - loss: 0.6583 - root_mean_squared_error: 0.1974 - val_loss: 0.6618 - val_root_mean_squared_error: 0.2005\n",
            "Epoch 9/20\n",
            "298/298 [==============================] - 206s 673ms/step - loss: 0.6577 - root_mean_squared_error: 0.1966 - val_loss: 0.6616 - val_root_mean_squared_error: 0.2003\n",
            "Epoch 10/20\n",
            "298/298 [==============================] - 207s 675ms/step - loss: 0.6572 - root_mean_squared_error: 0.1960 - val_loss: 0.6611 - val_root_mean_squared_error: 0.1996\n",
            "Epoch 11/20\n",
            "298/298 [==============================] - 206s 670ms/step - loss: 0.6564 - root_mean_squared_error: 0.1950 - val_loss: 0.6609 - val_root_mean_squared_error: 0.1994\n",
            "Epoch 12/20\n",
            "298/298 [==============================] - 206s 671ms/step - loss: 0.6561 - root_mean_squared_error: 0.1946 - val_loss: 0.6605 - val_root_mean_squared_error: 0.1989\n",
            "Epoch 13/20\n",
            "298/298 [==============================] - 206s 672ms/step - loss: 0.6553 - root_mean_squared_error: 0.1937 - val_loss: 0.6601 - val_root_mean_squared_error: 0.1984\n",
            "Epoch 14/20\n",
            "298/298 [==============================] - 207s 673ms/step - loss: 0.6547 - root_mean_squared_error: 0.1929 - val_loss: 0.6599 - val_root_mean_squared_error: 0.1982\n",
            "Epoch 15/20\n",
            "298/298 [==============================] - 206s 673ms/step - loss: 0.6546 - root_mean_squared_error: 0.1928 - val_loss: 0.6595 - val_root_mean_squared_error: 0.1976\n",
            "Epoch 16/20\n",
            "298/298 [==============================] - 208s 678ms/step - loss: 0.6545 - root_mean_squared_error: 0.1926 - val_loss: 0.6591 - val_root_mean_squared_error: 0.1972\n",
            "Epoch 17/20\n",
            "298/298 [==============================] - 206s 673ms/step - loss: 0.6540 - root_mean_squared_error: 0.1921 - val_loss: 0.6590 - val_root_mean_squared_error: 0.1970\n",
            "Epoch 18/20\n",
            "298/298 [==============================] - 206s 670ms/step - loss: 0.6540 - root_mean_squared_error: 0.1921 - val_loss: 0.6589 - val_root_mean_squared_error: 0.1969\n",
            "Epoch 19/20\n",
            "298/298 [==============================] - 206s 671ms/step - loss: 0.6536 - root_mean_squared_error: 0.1916 - val_loss: 0.6582 - val_root_mean_squared_error: 0.1960\n",
            "Epoch 20/20\n",
            "298/298 [==============================] - 204s 665ms/step - loss: 0.6536 - root_mean_squared_error: 0.1916 - val_loss: 0.6587 - val_root_mean_squared_error: 0.1967\n"
          ]
        }
      ]
    },
    {
      "cell_type": "code",
      "metadata": {
        "colab": {
          "base_uri": "https://localhost:8080/",
          "height": 350
        },
        "id": "RXzuhzBHMUmP",
        "outputId": "af95b0b9-e164-49b7-a090-9e70b65d1e61"
      },
      "source": [
        "plot_rmse_loss(history)"
      ],
      "execution_count": null,
      "outputs": [
        {
          "output_type": "display_data",
          "data": {
            "image/png": "[encoded data removed]",
            "text/plain": [
              "<Figure size 1080x360 with 2 Axes>"
            ]
          },
          "metadata": {
            "needs_background": "light"
          }
        }
      ]
    },
    {
      "cell_type": "code",
      "metadata": {
        "colab": {
          "base_uri": "https://localhost:8080/"
        },
        "id": "RcyLavstMUou",
        "outputId": "b953041c-addb-490d-f218-f9e99964b8be"
      },
      "source": [
        "# save model\n",
        "model.save('/content/drive/MyDrive/ml_project/255_project/mobilev2_512fc_freeze.h5')"
      ],
      "execution_count": null,
      "outputs": [
        {
          "output_type": "stream",
          "name": "stderr",
          "text": [
            "/usr/local/lib/python3.7/dist-packages/keras/engine/functional.py:1410: CustomMaskWarning: Custom mask layers require a config and must override get_config. When loading, the custom mask layer must be passed to the custom_objects argument.\n",
            "  layer_config = serialize_layer_fn(layer)\n"
          ]
        }
      ]
    },
    {
      "cell_type": "markdown",
      "metadata": {
        "id": "30o5Pi3FbDsv"
      },
      "source": [
        "Unfreeze layers"
      ]
    },
    {
      "cell_type": "code",
      "metadata": {
        "id": "1XmYKBqEbGl7"
      },
      "source": [
        "def unfreeze_layers(model):\n",
        "  for layer in model.layers:\n",
        "    layer.trainable = True\n",
        "\n",
        "  # learning rate scheduling\n",
        "  opt = tf.optimizers.Adam(learning_rate=1e-4)\n",
        "  loss = tf.keras.losses.MeanSquaredError()\n",
        "\n",
        "  model.compile(loss=loss,\n",
        "                optimizer=opt, \n",
        "                metrics=[tf.keras.metrics.RootMeanSquaredError()])"
      ],
      "execution_count": null,
      "outputs": []
    },
    {
      "cell_type": "code",
      "metadata": {
        "colab": {
          "base_uri": "https://localhost:8080/"
        },
        "id": "iFxwg74dMUrX",
        "outputId": "7e4d0976-5ed4-4d08-8e87-314ab808f2ec"
      },
      "source": [
        "unfreeze_layers(model)\n",
        "history = model.fit(ds_train, \n",
        "                    epochs=20, \n",
        "                    steps_per_epoch=len(ds_train), \n",
        "                    validation_data=ds_val,\n",
        "                    callbacks=tf.keras.callbacks.EarlyStopping('val_loss', \n",
        "                                                               patience=3,\n",
        "                                                               restore_best_weights=True))"
      ],
      "execution_count": null,
      "outputs": [
        {
          "output_type": "stream",
          "name": "stdout",
          "text": [
            "Epoch 1/20\n",
            "298/298 [==============================] - 259s 836ms/step - loss: 0.6892 - root_mean_squared_error: 0.2163 - val_loss: 0.6641 - val_root_mean_squared_error: 0.2032\n",
            "Epoch 2/20\n",
            "298/298 [==============================] - 256s 837ms/step - loss: 0.6713 - root_mean_squared_error: 0.2104 - val_loss: 0.6643 - val_root_mean_squared_error: 0.2034\n",
            "Epoch 3/20\n",
            "298/298 [==============================] - 255s 836ms/step - loss: 0.6671 - root_mean_squared_error: 0.2073 - val_loss: 0.6639 - val_root_mean_squared_error: 0.2030\n",
            "Epoch 4/20\n",
            "298/298 [==============================] - 252s 826ms/step - loss: 0.6651 - root_mean_squared_error: 0.2056 - val_loss: 0.6639 - val_root_mean_squared_error: 0.2030\n",
            "Epoch 5/20\n",
            "298/298 [==============================] - 252s 825ms/step - loss: 0.6647 - root_mean_squared_error: 0.2052 - val_loss: 0.6641 - val_root_mean_squared_error: 0.2032\n",
            "Epoch 6/20\n",
            "298/298 [==============================] - 255s 834ms/step - loss: 0.6640 - root_mean_squared_error: 0.2045 - val_loss: 0.6637 - val_root_mean_squared_error: 0.2027\n",
            "Epoch 7/20\n",
            "298/298 [==============================] - 255s 835ms/step - loss: 0.6615 - root_mean_squared_error: 0.2014 - val_loss: 0.6640 - val_root_mean_squared_error: 0.2030\n",
            "Epoch 8/20\n",
            "298/298 [==============================] - 254s 833ms/step - loss: 0.6563 - root_mean_squared_error: 0.1950 - val_loss: 0.6674 - val_root_mean_squared_error: 0.2064\n",
            "Epoch 9/20\n",
            "298/298 [==============================] - 254s 832ms/step - loss: 0.6499 - root_mean_squared_error: 0.1872 - val_loss: 0.6670 - val_root_mean_squared_error: 0.2063\n"
          ]
        }
      ]
    },
    {
      "cell_type": "code",
      "metadata": {
        "colab": {
          "base_uri": "https://localhost:8080/",
          "height": 350
        },
        "id": "nCKEuATIMUtq",
        "outputId": "d82e5fdc-b7d1-4eae-e179-24a539efe514"
      },
      "source": [
        "plot_rmse_loss(history)"
      ],
      "execution_count": null,
      "outputs": [
        {
          "output_type": "display_data",
          "data": {
            "image/png": "[encoded data removed]",
            "text/plain": [
              "<Figure size 1080x360 with 2 Axes>"
            ]
          },
          "metadata": {
            "needs_background": "light"
          }
        }
      ]
    },
    {
      "cell_type": "markdown",
      "metadata": {
        "id": "cBN1JzD5QT6P"
      },
      "source": [
        "Model test"
      ]
    },
    {
      "cell_type": "code",
      "metadata": {
        "colab": {
          "base_uri": "https://localhost:8080/"
        },
        "id": "FIi3SYh0MUyF",
        "outputId": "63ffdb54-2453-4504-dba3-9a529c44ad82"
      },
      "source": [
        "best_model = tf.keras.models.load_model('/content/drive/MyDrive/ml_project/255_project/mobilev2_512fc_freeze.h5')\n",
        "best_model.summary()"
      ],
      "execution_count": null,
      "outputs": [
        {
          "output_type": "stream",
          "name": "stdout",
          "text": [
            "Model: \"sequential_6\"\n",
            "_________________________________________________________________\n",
            " Layer (type)                Output Shape              Param #   \n",
            "=================================================================\n",
            " mobilenetv2_1.00_224 (Funct  (None, 7, 7, 1280)       2257984   \n",
            " ional)                                                          \n",
            "                                                                 \n",
            " global_average_pooling2d_24  (None, 1280)             0         \n",
            "  (GlobalAveragePooling2D)                                       \n",
            "                                                                 \n",
            " dropout_30 (Dropout)        (None, 1280)              0         \n",
            "                                                                 \n",
            " dense_72 (Dense)            (None, 512)               655872    \n",
            "                                                                 \n",
            " dropout_31 (Dropout)        (None, 512)               0         \n",
            "                                                                 \n",
            " dense_73 (Dense)            (None, 512)               262656    \n",
            "                                                                 \n",
            " dropout_32 (Dropout)        (None, 512)               0         \n",
            "                                                                 \n",
            " dense_74 (Dense)            (None, 1)                 513       \n",
            "                                                                 \n",
            "=================================================================\n",
            "Total params: 3,177,025\n",
            "Trainable params: 919,041\n",
            "Non-trainable params: 2,257,984\n",
            "_________________________________________________________________\n"
          ]
        }
      ]
    },
    {
      "cell_type": "code",
      "metadata": {
        "colab": {
          "base_uri": "https://localhost:8080/"
        },
        "id": "Dyaf_-9pQVrb",
        "outputId": "61b3fc64-fa93-4835-8d51-ee2f660c679d"
      },
      "source": [
        "loss, rmse = best_model.evaluate(ds_test)\n",
        "print('Test set RMSE is:', rmse)"
      ],
      "execution_count": null,
      "outputs": [
        {
          "output_type": "stream",
          "name": "stdout",
          "text": [
            "16/16 [==============================] - 98s 6s/step - loss: 0.6606 - root_mean_squared_error: 0.2039\n",
            "Test set RMSE is: 0.2039112150669098\n"
          ]
        }
      ]
    },
    {
      "cell_type": "code",
      "metadata": {
        "id": "G417cfP6QVtr"
      },
      "source": [
        ""
      ],
      "execution_count": null,
      "outputs": []
    },
    {
      "cell_type": "code",
      "metadata": {
        "id": "5_NT-0j8QVwL"
      },
      "source": [
        ""
      ],
      "execution_count": null,
      "outputs": []
    },
    {
      "cell_type": "code",
      "metadata": {
        "id": "R6RC_80CQVym"
      },
      "source": [
        ""
      ],
      "execution_count": null,
      "outputs": []
    }
  ]
}