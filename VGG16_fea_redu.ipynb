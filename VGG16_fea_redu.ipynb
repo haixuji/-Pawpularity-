{
  "nbformat": 4,
  "nbformat_minor": 0,
  "metadata": {
    "accelerator": "GPU",
    "colab": {
      "name": "VGG16_fea_reduc.ipynb",
      "provenance": [],
      "machine_shape": "hm"
    },
    "kernelspec": {
      "display_name": "Python 3",
      "name": "python3"
    },
    "language_info": {
      "name": "python"
    }
  },
  "cells": [
    {
      "cell_type": "code",
      "metadata": {
        "colab": {
          "base_uri": "https://localhost:8080/"
        },
        "id": "N94se3A2VmUF",
        "outputId": "0f69ac36-0207-4c92-f40c-6681e3661ad9"
      },
      "source": [
        "from google.colab import drive\n",
        "drive.mount('/content/drive')"
      ],
      "execution_count": 43,
      "outputs": [
        {
          "output_type": "stream",
          "name": "stdout",
          "text": [
            "Drive already mounted at /content/drive; to attempt to forcibly remount, call drive.mount(\"/content/drive\", force_remount=True).\n"
          ]
        }
      ]
    },
    {
      "cell_type": "code",
      "metadata": {
        "id": "ag1wwCinWIBI"
      },
      "source": [
        "import os\n",
        "import cv2\n",
        "import numpy as np\n",
        "import pandas as pd\n",
        "import tensorflow as tf\n",
        "import matplotlib.pyplot as plt\n",
        "from tqdm import tqdm\n",
        "from joblib import dump, load\n",
        "from sklearn.metrics import mean_squared_error\n",
        "from sklearn.linear_model import LinearRegression\n",
        "from sklearn.model_selection import train_test_split\n",
        "from tensorflow.keras.models import load_model, Sequential\n",
        "from tensorflow.keras.optimizers import Adam\n",
        "from tensorflow.keras.activations import relu\n",
        "from tensorflow.keras.metrics import RootMeanSquaredError as RMSE\n",
        "from tensorflow.keras.callbacks import ReduceLROnPlateau\n",
        "from tensorflow.keras.applications import VGG16\n",
        "from tensorflow.keras.applications.resnet_v2 import ResNet101V2, ResNet50V2\n",
        "from tensorflow.keras.layers import Dropout, Conv2D, Dense, MaxPool2D, Flatten"
      ],
      "execution_count": 44,
      "outputs": []
    },
    {
      "cell_type": "code",
      "metadata": {
        "id": "NwmyHJgIqaMz"
      },
      "source": [
        "data_dir = \"/content/drive/MyDrive/dataset-2/train/\"\n",
        "train_csv_df = pd.read_csv(\"/content/drive/MyDrive/dataset-2/train.csv\")"
      ],
      "execution_count": 45,
      "outputs": []
    },
    {
      "cell_type": "markdown",
      "metadata": {
        "id": "pdhoZXGwA5r9"
      },
      "source": [
        "##VGG16"
      ]
    },
    {
      "cell_type": "code",
      "metadata": {
        "colab": {
          "base_uri": "https://localhost:8080/",
          "height": 204
        },
        "id": "RwayMDi_qdJl",
        "outputId": "4f185c56-74a7-492f-e7c3-a31949c08f5d"
      },
      "source": [
        "train_csv_df['img_path'] = train_csv_df.apply(lambda row : data_dir + str(row['Id']) + '.jpg', axis=1)\n",
        "train_csv_df.head()"
      ],
      "execution_count": null,
      "outputs": [
        {
          "output_type": "execute_result",
          "data": {
            "text/html": [
              "<div>\n",
              "<style scoped>\n",
              "    .dataframe tbody tr th:only-of-type {\n",
              "        vertical-align: middle;\n",
              "    }\n",
              "\n",
              "    .dataframe tbody tr th {\n",
              "        vertical-align: top;\n",
              "    }\n",
              "\n",
              "    .dataframe thead th {\n",
              "        text-align: right;\n",
              "    }\n",
              "</style>\n",
              "<table border=\"1\" class=\"dataframe\">\n",
              "  <thead>\n",
              "    <tr style=\"text-align: right;\">\n",
              "      <th></th>\n",
              "      <th>Id</th>\n",
              "      <th>Subject Focus</th>\n",
              "      <th>Eyes</th>\n",
              "      <th>Face</th>\n",
              "      <th>Near</th>\n",
              "      <th>Action</th>\n",
              "      <th>Accessory</th>\n",
              "      <th>Group</th>\n",
              "      <th>Collage</th>\n",
              "      <th>Human</th>\n",
              "      <th>Occlusion</th>\n",
              "      <th>Info</th>\n",
              "      <th>Blur</th>\n",
              "      <th>Pawpularity</th>\n",
              "      <th>img_path</th>\n",
              "    </tr>\n",
              "  </thead>\n",
              "  <tbody>\n",
              "    <tr>\n",
              "      <th>0</th>\n",
              "      <td>0007de18844b0dbbb5e1f607da0606e0</td>\n",
              "      <td>0</td>\n",
              "      <td>1</td>\n",
              "      <td>1</td>\n",
              "      <td>1</td>\n",
              "      <td>0</td>\n",
              "      <td>0</td>\n",
              "      <td>1</td>\n",
              "      <td>0</td>\n",
              "      <td>0</td>\n",
              "      <td>0</td>\n",
              "      <td>0</td>\n",
              "      <td>0</td>\n",
              "      <td>63</td>\n",
              "      <td>/content/drive/MyDrive/dataset-2/train/0007de1...</td>\n",
              "    </tr>\n",
              "    <tr>\n",
              "      <th>1</th>\n",
              "      <td>0009c66b9439883ba2750fb825e1d7db</td>\n",
              "      <td>0</td>\n",
              "      <td>1</td>\n",
              "      <td>1</td>\n",
              "      <td>0</td>\n",
              "      <td>0</td>\n",
              "      <td>0</td>\n",
              "      <td>0</td>\n",
              "      <td>0</td>\n",
              "      <td>0</td>\n",
              "      <td>0</td>\n",
              "      <td>0</td>\n",
              "      <td>0</td>\n",
              "      <td>42</td>\n",
              "      <td>/content/drive/MyDrive/dataset-2/train/0009c66...</td>\n",
              "    </tr>\n",
              "    <tr>\n",
              "      <th>2</th>\n",
              "      <td>0013fd999caf9a3efe1352ca1b0d937e</td>\n",
              "      <td>0</td>\n",
              "      <td>1</td>\n",
              "      <td>1</td>\n",
              "      <td>1</td>\n",
              "      <td>0</td>\n",
              "      <td>0</td>\n",
              "      <td>0</td>\n",
              "      <td>0</td>\n",
              "      <td>1</td>\n",
              "      <td>1</td>\n",
              "      <td>0</td>\n",
              "      <td>0</td>\n",
              "      <td>28</td>\n",
              "      <td>/content/drive/MyDrive/dataset-2/train/0013fd9...</td>\n",
              "    </tr>\n",
              "    <tr>\n",
              "      <th>3</th>\n",
              "      <td>0018df346ac9c1d8413cfcc888ca8246</td>\n",
              "      <td>0</td>\n",
              "      <td>1</td>\n",
              "      <td>1</td>\n",
              "      <td>1</td>\n",
              "      <td>0</td>\n",
              "      <td>0</td>\n",
              "      <td>0</td>\n",
              "      <td>0</td>\n",
              "      <td>0</td>\n",
              "      <td>0</td>\n",
              "      <td>0</td>\n",
              "      <td>0</td>\n",
              "      <td>15</td>\n",
              "      <td>/content/drive/MyDrive/dataset-2/train/0018df3...</td>\n",
              "    </tr>\n",
              "    <tr>\n",
              "      <th>4</th>\n",
              "      <td>001dc955e10590d3ca4673f034feeef2</td>\n",
              "      <td>0</td>\n",
              "      <td>0</td>\n",
              "      <td>0</td>\n",
              "      <td>1</td>\n",
              "      <td>0</td>\n",
              "      <td>0</td>\n",
              "      <td>1</td>\n",
              "      <td>0</td>\n",
              "      <td>0</td>\n",
              "      <td>0</td>\n",
              "      <td>0</td>\n",
              "      <td>0</td>\n",
              "      <td>72</td>\n",
              "      <td>/content/drive/MyDrive/dataset-2/train/001dc95...</td>\n",
              "    </tr>\n",
              "  </tbody>\n",
              "</table>\n",
              "</div>"
            ],
            "text/plain": [
              "                                 Id  ...                                           img_path\n",
              "0  0007de18844b0dbbb5e1f607da0606e0  ...  /content/drive/MyDrive/dataset-2/train/0007de1...\n",
              "1  0009c66b9439883ba2750fb825e1d7db  ...  /content/drive/MyDrive/dataset-2/train/0009c66...\n",
              "2  0013fd999caf9a3efe1352ca1b0d937e  ...  /content/drive/MyDrive/dataset-2/train/0013fd9...\n",
              "3  0018df346ac9c1d8413cfcc888ca8246  ...  /content/drive/MyDrive/dataset-2/train/0018df3...\n",
              "4  001dc955e10590d3ca4673f034feeef2  ...  /content/drive/MyDrive/dataset-2/train/001dc95...\n",
              "\n",
              "[5 rows x 15 columns]"
            ]
          },
          "metadata": {},
          "execution_count": 27
        }
      ]
    },
    {
      "cell_type": "code",
      "metadata": {
        "id": "S4HXg89Hqi1N"
      },
      "source": [
        "file_path = train_csv_df['img_path'].values\n",
        "labels = train_csv_df['Pawpularity'].values"
      ],
      "execution_count": null,
      "outputs": []
    },
    {
      "cell_type": "code",
      "metadata": {
        "id": "LIbsg3t8qRNw"
      },
      "source": [
        "X_train, X_test, y_train, y_test = train_test_split(file_path, labels, test_size=0.2, random_state=40)\n",
        "X_train, X_val, y_train, y_val = train_test_split(X_train, y_train, test_size=0.1, random_state=40)"
      ],
      "execution_count": null,
      "outputs": []
    },
    {
      "cell_type": "code",
      "metadata": {
        "id": "Fw2BtMUQqwQO"
      },
      "source": [
        "ds_train = tf.data.Dataset.from_tensor_slices((X_train, y_train))\n",
        "ds_val = tf.data.Dataset.from_tensor_slices((X_val, y_val))\n",
        "ds_test = tf.data.Dataset.from_tensor_slices((X_test, y_test))"
      ],
      "execution_count": null,
      "outputs": []
    },
    {
      "cell_type": "code",
      "metadata": {
        "id": "M_qPDDgNY6Vl"
      },
      "source": [
        "img_size = [224, 224]\n",
        "maxDelta = 0.2\n",
        "contrast = [0.2, 0.5]\n",
        "batch_size = 64\n",
        "\n",
        "# pipeline\n",
        "# image decoder\n",
        "def img_decoder(path, label):\n",
        "  img_file = tf.io.read_file(path)\n",
        "  img = tf.image.decode_jpeg(img_file, channels=3)\n",
        "  # resize images with pad to desired size\n",
        "  img = tf.image.resize_with_pad(img, img_size[0], img_size[1])\n",
        "  # image normalization\n",
        "  img = tf.cast(img, tf.float32) / 255.0\n",
        "  # image reshape\n",
        "  img = tf.reshape(img, [*img_size, 3])\n",
        "  \n",
        "  return img, label\n",
        "\n",
        "# image augmentations\n",
        "  # random flip\n",
        "  # random brightness\n",
        "  # random contrast\n",
        "  # random hue\n",
        "def img_flip(img, label):\n",
        "  img = tf.image.random_flip_left_right(img)\n",
        "  img = tf.reshape(img, [*img_size, 3])\n",
        "  return img, label\n",
        "\n",
        "def img_flip2(img, label):\n",
        "  img = tf.image.random_flip_up_down(img)\n",
        "  img = tf.reshape(img, [*img_size, 3])\n",
        "  return img, label\n",
        "\n",
        "def img_bri(img, label):\n",
        "  img = tf.image.random_brightness(img, max_delta=maxDelta)\n",
        "  img = tf.reshape(img, [*img_size, 3])\n",
        "  return img, label\n",
        "\n",
        "def img_contrast(img, label):\n",
        "  img = tf.image.random_contrast(img, contrast[0], contrast[1])\n",
        "  img = tf.reshape(img, [*img_size, 3])\n",
        "  return img, label\n",
        "\n",
        "def img_hue(img, label):\n",
        "  img = tf.image.random_hue(img, max_delta=maxDelta)\n",
        "  img = tf.reshape(img, [*img_size, 3])\n",
        "  return img, label"
      ],
      "execution_count": null,
      "outputs": []
    },
    {
      "cell_type": "code",
      "metadata": {
        "id": "EyBJikHZY_2h"
      },
      "source": [
        "# build dataset\n",
        "def dataset_builder(ds):\n",
        "  ds = ds.map(img_decoder)\n",
        "\n",
        "  ds_flip = ds.map(img_flip)\n",
        "  # ds_filp2 = ds.map(img_flip2)\n",
        "  ds_bri = ds.map(img_bri)\n",
        "  ds_contrast = ds.map(img_contrast)\n",
        "  ds_hue = ds.map(img_hue)\n",
        "  # combine all dataset\n",
        "  ds = ds.concatenate(ds_flip).concatenate(ds_bri).concatenate(ds_contrast).concatenate(ds_hue)\n",
        "\n",
        "  ds = ds.shuffle(10 * batch_size)\n",
        "  ds = ds.batch(batch_size)\n",
        "  # ds = ds.prefetch(tf.data.AUTOTUNE)\n",
        "  return ds"
      ],
      "execution_count": null,
      "outputs": []
    },
    {
      "cell_type": "code",
      "metadata": {
        "id": "DVyW-CzKZDrr"
      },
      "source": [
        "ds_train = dataset_builder(ds_train)\n",
        "ds_val = ds_val.map(img_decoder).batch(batch_size) #.prefetch(tf.data.AUTOTUNE)\n",
        "ds_test = ds_test.map(img_decoder).batch(batch_size) #.prefetch(tf.data.AUTOTUNE)"
      ],
      "execution_count": null,
      "outputs": []
    },
    {
      "cell_type": "code",
      "metadata": {
        "id": "oi-00TBaqzdr"
      },
      "source": [
        "def read_image(image_file, label):\n",
        "  image = tf.io.read_file(image_file)\n",
        "  image = tf.image.decode_jpeg(image, channels=3)\n",
        "  image = tf.image.resize(image, (224, 224))\n",
        "  return image, label"
      ],
      "execution_count": null,
      "outputs": []
    },
    {
      "cell_type": "code",
      "metadata": {
        "id": "ig_KwYQb17r3"
      },
      "source": [
        "\n",
        "model = Sequential()\n",
        "model.add(Conv2D(input_shape=(128,128,3),filters=64,kernel_size=(3,3),padding=\"same\", activation=\"relu\"))\n",
        "model.add(Conv2D(filters=64,kernel_size=(3,3),padding=\"same\", activation=\"relu\"))\n",
        "model.add(MaxPool2D(pool_size=(2,2),strides=(2,2)))\n",
        "model.add(Conv2D(filters=128, kernel_size=(3,3), padding=\"same\", activation=\"relu\"))\n",
        "model.add(Conv2D(filters=128, kernel_size=(3,3), padding=\"same\", activation=\"relu\"))\n",
        "model.add(MaxPool2D(pool_size=(2,2),strides=(2,2)))\n",
        "model.add(Conv2D(filters=256, kernel_size=(3,3), padding=\"same\", activation=\"relu\"))\n",
        "model.add(Conv2D(filters=256, kernel_size=(3,3), padding=\"same\", activation=\"relu\"))\n",
        "model.add(Conv2D(filters=256, kernel_size=(3,3), padding=\"same\", activation=\"relu\"))\n",
        "model.add(MaxPool2D(pool_size=(2,2),strides=(2,2)))\n",
        "model.add(Conv2D(filters=512, kernel_size=(3,3), padding=\"same\", activation=\"relu\"))\n",
        "model.add(Conv2D(filters=512, kernel_size=(3,3), padding=\"same\", activation=\"relu\"))\n",
        "model.add(Conv2D(filters=512, kernel_size=(3,3), padding=\"same\", activation=\"relu\"))\n",
        "model.add(MaxPool2D(pool_size=(2,2),strides=(2,2)))\n",
        "model.add(Conv2D(filters=512, kernel_size=(3,3), padding=\"same\", activation=\"relu\"))\n",
        "model.add(Conv2D(filters=512, kernel_size=(3,3), padding=\"same\", activation=\"relu\"))\n",
        "model.add(Conv2D(filters=512, kernel_size=(3,3), padding=\"same\", activation=\"relu\"))\n",
        "model.add(MaxPool2D(pool_size=(2,2),strides=(2,2),name='vgg16'))\n",
        "model.add(Flatten(name='flatten'))\n",
        "model.add(Dense(256, activation='relu', name='fc1'))\n",
        "model.add(Dense(128, activation='relu', name='fc2'))\n",
        "model.add(Dense(1, activation='sigmoid', name='output'))\n"
      ],
      "execution_count": null,
      "outputs": []
    },
    {
      "cell_type": "code",
      "metadata": {
        "colab": {
          "base_uri": "https://localhost:8080/"
        },
        "id": "g4YZa69Hz6mx",
        "outputId": "5cd09425-6748-4858-c6e0-1ed61359a79d"
      },
      "source": [
        "model.summary()"
      ],
      "execution_count": null,
      "outputs": [
        {
          "output_type": "stream",
          "name": "stdout",
          "text": [
            "Model: \"sequential\"\n",
            "_________________________________________________________________\n",
            " Layer (type)                Output Shape              Param #   \n",
            "=================================================================\n",
            " conv2d (Conv2D)             (None, 128, 128, 64)      1792      \n",
            "                                                                 \n",
            " conv2d_1 (Conv2D)           (None, 128, 128, 64)      36928     \n",
            "                                                                 \n",
            " max_pooling2d (MaxPooling2D  (None, 64, 64, 64)       0         \n",
            " )                                                               \n",
            "                                                                 \n",
            " conv2d_2 (Conv2D)           (None, 64, 64, 128)       73856     \n",
            "                                                                 \n",
            " conv2d_3 (Conv2D)           (None, 64, 64, 128)       147584    \n",
            "                                                                 \n",
            " max_pooling2d_1 (MaxPooling  (None, 32, 32, 128)      0         \n",
            " 2D)                                                             \n",
            "                                                                 \n",
            " conv2d_4 (Conv2D)           (None, 32, 32, 256)       295168    \n",
            "                                                                 \n",
            " conv2d_5 (Conv2D)           (None, 32, 32, 256)       590080    \n",
            "                                                                 \n",
            " conv2d_6 (Conv2D)           (None, 32, 32, 256)       590080    \n",
            "                                                                 \n",
            " max_pooling2d_2 (MaxPooling  (None, 16, 16, 256)      0         \n",
            " 2D)                                                             \n",
            "                                                                 \n",
            " conv2d_7 (Conv2D)           (None, 16, 16, 512)       1180160   \n",
            "                                                                 \n",
            " conv2d_8 (Conv2D)           (None, 16, 16, 512)       2359808   \n",
            "                                                                 \n",
            " conv2d_9 (Conv2D)           (None, 16, 16, 512)       2359808   \n",
            "                                                                 \n",
            " max_pooling2d_3 (MaxPooling  (None, 8, 8, 512)        0         \n",
            " 2D)                                                             \n",
            "                                                                 \n",
            " conv2d_10 (Conv2D)          (None, 8, 8, 512)         2359808   \n",
            "                                                                 \n",
            " conv2d_11 (Conv2D)          (None, 8, 8, 512)         2359808   \n",
            "                                                                 \n",
            " conv2d_12 (Conv2D)          (None, 8, 8, 512)         2359808   \n",
            "                                                                 \n",
            " vgg16 (MaxPooling2D)        (None, 4, 4, 512)         0         \n",
            "                                                                 \n",
            " flatten (Flatten)           (None, 8192)              0         \n",
            "                                                                 \n",
            " fc1 (Dense)                 (None, 256)               2097408   \n",
            "                                                                 \n",
            " fc2 (Dense)                 (None, 128)               32896     \n",
            "                                                                 \n",
            " output (Dense)              (None, 1)                 129       \n",
            "                                                                 \n",
            "=================================================================\n",
            "Total params: 16,845,121\n",
            "Trainable params: 16,845,121\n",
            "Non-trainable params: 0\n",
            "_________________________________________________________________\n"
          ]
        }
      ]
    },
    {
      "cell_type": "code",
      "metadata": {
        "id": "DCsYblFq1M6o"
      },
      "source": [
        "model.compile(optimizer=\"adam\",\n",
        "            loss=tf.keras.losses.MeanSquaredError(),\n",
        "            metrics=[tf.keras.metrics.RootMeanSquaredError(name='rmse')])"
      ],
      "execution_count": null,
      "outputs": []
    },
    {
      "cell_type": "code",
      "metadata": {
        "colab": {
          "base_uri": "https://localhost:8080/",
          "height": 341
        },
        "id": "RVkrBE1G2T1h",
        "outputId": "f2e7a655-c3b2-49a3-c368-82d42dd47734"
      },
      "source": [
        "History = model.fit(ds_train,validation_data=ds_test,epochs=10,verbose=1)"
      ],
      "execution_count": null,
      "outputs": [
        {
          "output_type": "stream",
          "name": "stdout",
          "text": [
            "Epoch 1/10\n"
          ]
        },
        {
          "output_type": "error",
          "ename": "InvalidArgumentError",
          "evalue": "ignored",
          "traceback": [
            "\u001b[0;31m---------------------------------------------------------------------------\u001b[0m",
            "\u001b[0;31mInvalidArgumentError\u001b[0m                      Traceback (most recent call last)",
            "\u001b[0;32m<ipython-input-36-b40fb58a434d>\u001b[0m in \u001b[0;36m<module>\u001b[0;34m()\u001b[0m\n\u001b[0;32m----> 1\u001b[0;31m \u001b[0mHistory\u001b[0m \u001b[0;34m=\u001b[0m \u001b[0mmodel\u001b[0m\u001b[0;34m.\u001b[0m\u001b[0mfit\u001b[0m\u001b[0;34m(\u001b[0m\u001b[0mds_train\u001b[0m\u001b[0;34m,\u001b[0m\u001b[0mvalidation_data\u001b[0m\u001b[0;34m=\u001b[0m\u001b[0mds_test\u001b[0m\u001b[0;34m,\u001b[0m\u001b[0mepochs\u001b[0m\u001b[0;34m=\u001b[0m\u001b[0;36m10\u001b[0m\u001b[0;34m,\u001b[0m\u001b[0mverbose\u001b[0m\u001b[0;34m=\u001b[0m\u001b[0;36m1\u001b[0m\u001b[0;34m)\u001b[0m\u001b[0;34m\u001b[0m\u001b[0;34m\u001b[0m\u001b[0m\n\u001b[0m",
            "\u001b[0;32m/usr/local/lib/python3.7/dist-packages/keras/utils/traceback_utils.py\u001b[0m in \u001b[0;36merror_handler\u001b[0;34m(*args, **kwargs)\u001b[0m\n\u001b[1;32m     65\u001b[0m     \u001b[0;32mexcept\u001b[0m \u001b[0mException\u001b[0m \u001b[0;32mas\u001b[0m \u001b[0me\u001b[0m\u001b[0;34m:\u001b[0m  \u001b[0;31m# pylint: disable=broad-except\u001b[0m\u001b[0;34m\u001b[0m\u001b[0;34m\u001b[0m\u001b[0m\n\u001b[1;32m     66\u001b[0m       \u001b[0mfiltered_tb\u001b[0m \u001b[0;34m=\u001b[0m \u001b[0m_process_traceback_frames\u001b[0m\u001b[0;34m(\u001b[0m\u001b[0me\u001b[0m\u001b[0;34m.\u001b[0m\u001b[0m__traceback__\u001b[0m\u001b[0;34m)\u001b[0m\u001b[0;34m\u001b[0m\u001b[0;34m\u001b[0m\u001b[0m\n\u001b[0;32m---> 67\u001b[0;31m       \u001b[0;32mraise\u001b[0m \u001b[0me\u001b[0m\u001b[0;34m.\u001b[0m\u001b[0mwith_traceback\u001b[0m\u001b[0;34m(\u001b[0m\u001b[0mfiltered_tb\u001b[0m\u001b[0;34m)\u001b[0m \u001b[0;32mfrom\u001b[0m \u001b[0;32mNone\u001b[0m\u001b[0;34m\u001b[0m\u001b[0;34m\u001b[0m\u001b[0m\n\u001b[0m\u001b[1;32m     68\u001b[0m     \u001b[0;32mfinally\u001b[0m\u001b[0;34m:\u001b[0m\u001b[0;34m\u001b[0m\u001b[0;34m\u001b[0m\u001b[0m\n\u001b[1;32m     69\u001b[0m       \u001b[0;32mdel\u001b[0m \u001b[0mfiltered_tb\u001b[0m\u001b[0;34m\u001b[0m\u001b[0;34m\u001b[0m\u001b[0m\n",
            "\u001b[0;32m/usr/local/lib/python3.7/dist-packages/tensorflow/python/eager/execute.py\u001b[0m in \u001b[0;36mquick_execute\u001b[0;34m(op_name, num_outputs, inputs, attrs, ctx, name)\u001b[0m\n\u001b[1;32m     57\u001b[0m     \u001b[0mctx\u001b[0m\u001b[0;34m.\u001b[0m\u001b[0mensure_initialized\u001b[0m\u001b[0;34m(\u001b[0m\u001b[0;34m)\u001b[0m\u001b[0;34m\u001b[0m\u001b[0;34m\u001b[0m\u001b[0m\n\u001b[1;32m     58\u001b[0m     tensors = pywrap_tfe.TFE_Py_Execute(ctx._handle, device_name, op_name,\n\u001b[0;32m---> 59\u001b[0;31m                                         inputs, attrs, num_outputs)\n\u001b[0m\u001b[1;32m     60\u001b[0m   \u001b[0;32mexcept\u001b[0m \u001b[0mcore\u001b[0m\u001b[0;34m.\u001b[0m\u001b[0m_NotOkStatusException\u001b[0m \u001b[0;32mas\u001b[0m \u001b[0me\u001b[0m\u001b[0;34m:\u001b[0m\u001b[0;34m\u001b[0m\u001b[0;34m\u001b[0m\u001b[0m\n\u001b[1;32m     61\u001b[0m     \u001b[0;32mif\u001b[0m \u001b[0mname\u001b[0m \u001b[0;32mis\u001b[0m \u001b[0;32mnot\u001b[0m \u001b[0;32mNone\u001b[0m\u001b[0;34m:\u001b[0m\u001b[0;34m\u001b[0m\u001b[0;34m\u001b[0m\u001b[0m\n",
            "\u001b[0;31mInvalidArgumentError\u001b[0m:  Size 1 must be non-negative, not -3\n\t [[{{node mean_squared_error/SquaredDifference-0-ReshapeNHWCToNCHW-LayoutOptimizer}}]] [Op:__inference_train_function_4253]"
          ]
        }
      ]
    },
    {
      "cell_type": "markdown",
      "metadata": {
        "id": "N3hJnW-ZBD0C"
      },
      "source": [
        "##Vgg16 Image Feature Reduction"
      ]
    },
    {
      "cell_type": "code",
      "metadata": {
        "colab": {
          "base_uri": "https://localhost:8080/"
        },
        "id": "TiPRYLctAt5S",
        "outputId": "691c67b1-b7af-4d48-96fc-1b9a9b067cce"
      },
      "source": [
        "from tensorflow.keras.applications import VGG16\n",
        "model_1 = VGG16(weights = 'imagenet', include_top = False, input_shape = (128, 128, 3))\n",
        "\n",
        "# # Freezing the weights of all the layers\n",
        "for layer in model_1.layers:\n",
        "  layer.trainable = False\n",
        "    \n",
        "# # Saving the model: Training\n",
        "model_1.save('vgg16_model.h5')"
      ],
      "execution_count": 47,
      "outputs": [
        {
          "output_type": "stream",
          "name": "stdout",
          "text": [
            "WARNING:tensorflow:Compiled the loaded model, but the compiled metrics have yet to be built. `model.compile_metrics` will be empty until you train or evaluate the model.\n"
          ]
        }
      ]
    },
    {
      "cell_type": "code",
      "metadata": {
        "colab": {
          "base_uri": "https://localhost:8080/"
        },
        "id": "tOvS3XRuBsvE",
        "outputId": "06db12c2-9eb2-40a2-9b05-c54225c66362"
      },
      "source": [
        "model = load_model('vgg16_model.h5')"
      ],
      "execution_count": 48,
      "outputs": [
        {
          "output_type": "stream",
          "name": "stdout",
          "text": [
            "WARNING:tensorflow:No training configuration found in the save file, so the model was *not* compiled. Compile it manually.\n"
          ]
        }
      ]
    },
    {
      "cell_type": "code",
      "metadata": {
        "colab": {
          "base_uri": "https://localhost:8080/"
        },
        "id": "4V811zZMFVWG",
        "outputId": "73490a40-53d7-4ca4-be2b-6b1311e8462f"
      },
      "source": [
        "train = pd.read_csv(\"/content/drive/MyDrive/dataset-2/train.csv\")\n",
        "\n",
        "print(train.shape)\n",
        "\n",
        "train_images_path = '/content/drive/MyDrive/dataset-2/train'\n",
        "\n",
        "train_images_list = os.listdir(train_images_path)\n",
        "\n",
        "train_label = train['Pawpularity']\n",
        "\n",
        "print(len(train_images_list), train_label.shape)"
      ],
      "execution_count": 49,
      "outputs": [
        {
          "output_type": "stream",
          "name": "stdout",
          "text": [
            "(9912, 14)\n",
            "9932 (9912,)\n"
          ]
        }
      ]
    },
    {
      "cell_type": "code",
      "metadata": {
        "colab": {
          "base_uri": "https://localhost:8080/"
        },
        "id": "qWB1RIKOB7sc",
        "outputId": "2298f285-a4c8-44f1-9daf-e80b5bbf183a"
      },
      "source": [
        "# # Training Only\n",
        "train_images = []\n",
        "for i in tqdm(range(train.shape[0])):\n",
        "   path = os.path.join(train_images_path, train_images_list[i])\n",
        "   image = cv2.imread(path)\n",
        "   image = image / 255\n",
        "   image = cv2.resize(image, (128, 128))\n",
        "   train_images.append(image)\n",
        "train_images = np.array(train_images)  \n",
        "print(train_images.shape)"
      ],
      "execution_count": 50,
      "outputs": [
        {
          "output_type": "stream",
          "name": "stderr",
          "text": [
            "100%|██████████| 9912/9912 [02:46<00:00, 59.40it/s]\n"
          ]
        },
        {
          "output_type": "stream",
          "name": "stdout",
          "text": [
            "(9912, 128, 128, 3)\n"
          ]
        }
      ]
    },
    {
      "cell_type": "code",
      "metadata": {
        "id": "Cja8RF5yFA2s"
      },
      "source": [
        "train_fea = model.predict(train_images)"
      ],
      "execution_count": 51,
      "outputs": []
    },
    {
      "cell_type": "code",
      "metadata": {
        "colab": {
          "base_uri": "https://localhost:8080/",
          "height": 324
        },
        "id": "dabgGvzU7GBJ",
        "outputId": "2fc6e680-2ab7-49fd-e9ab-2e0426719e0e"
      },
      "source": [
        "pd.DataFrame(train_fea).to_csv('/content/drive/MyDrive/dataset-2/train_img.csv')"
      ],
      "execution_count": 13,
      "outputs": [
        {
          "output_type": "error",
          "ename": "KeyboardInterrupt",
          "evalue": "ignored",
          "traceback": [
            "\u001b[0;31m---------------------------------------------------------------------------\u001b[0m",
            "\u001b[0;31mKeyboardInterrupt\u001b[0m                         Traceback (most recent call last)",
            "\u001b[0;32m<ipython-input-13-e2e34409d22b>\u001b[0m in \u001b[0;36m<module>\u001b[0;34m()\u001b[0m\n\u001b[0;32m----> 1\u001b[0;31m \u001b[0mpd\u001b[0m\u001b[0;34m.\u001b[0m\u001b[0mDataFrame\u001b[0m\u001b[0;34m(\u001b[0m\u001b[0mtrain_fea\u001b[0m\u001b[0;34m)\u001b[0m\u001b[0;34m.\u001b[0m\u001b[0mto_csv\u001b[0m\u001b[0;34m(\u001b[0m\u001b[0;34m'/content/drive/MyDrive/dataset-2/train_img.csv'\u001b[0m\u001b[0;34m)\u001b[0m\u001b[0;34m\u001b[0m\u001b[0;34m\u001b[0m\u001b[0m\n\u001b[0m",
            "\u001b[0;32m/usr/local/lib/python3.7/dist-packages/pandas/core/generic.py\u001b[0m in \u001b[0;36mto_csv\u001b[0;34m(self, path_or_buf, sep, na_rep, float_format, columns, header, index, index_label, mode, encoding, compression, quoting, quotechar, line_terminator, chunksize, date_format, doublequote, escapechar, decimal, errors)\u001b[0m\n\u001b[1;32m   3168\u001b[0m             \u001b[0mdecimal\u001b[0m\u001b[0;34m=\u001b[0m\u001b[0mdecimal\u001b[0m\u001b[0;34m,\u001b[0m\u001b[0;34m\u001b[0m\u001b[0;34m\u001b[0m\u001b[0m\n\u001b[1;32m   3169\u001b[0m         )\n\u001b[0;32m-> 3170\u001b[0;31m         \u001b[0mformatter\u001b[0m\u001b[0;34m.\u001b[0m\u001b[0msave\u001b[0m\u001b[0;34m(\u001b[0m\u001b[0;34m)\u001b[0m\u001b[0;34m\u001b[0m\u001b[0;34m\u001b[0m\u001b[0m\n\u001b[0m\u001b[1;32m   3171\u001b[0m \u001b[0;34m\u001b[0m\u001b[0m\n\u001b[1;32m   3172\u001b[0m         \u001b[0;32mif\u001b[0m \u001b[0mpath_or_buf\u001b[0m \u001b[0;32mis\u001b[0m \u001b[0;32mNone\u001b[0m\u001b[0;34m:\u001b[0m\u001b[0;34m\u001b[0m\u001b[0;34m\u001b[0m\u001b[0m\n",
            "\u001b[0;32m/usr/local/lib/python3.7/dist-packages/pandas/io/formats/csvs.py\u001b[0m in \u001b[0;36msave\u001b[0;34m(self)\u001b[0m\n\u001b[1;32m    204\u001b[0m             )\n\u001b[1;32m    205\u001b[0m \u001b[0;34m\u001b[0m\u001b[0m\n\u001b[0;32m--> 206\u001b[0;31m             \u001b[0mself\u001b[0m\u001b[0;34m.\u001b[0m\u001b[0m_save\u001b[0m\u001b[0;34m(\u001b[0m\u001b[0;34m)\u001b[0m\u001b[0;34m\u001b[0m\u001b[0;34m\u001b[0m\u001b[0m\n\u001b[0m\u001b[1;32m    207\u001b[0m \u001b[0;34m\u001b[0m\u001b[0m\n\u001b[1;32m    208\u001b[0m         \u001b[0;32mfinally\u001b[0m\u001b[0;34m:\u001b[0m\u001b[0;34m\u001b[0m\u001b[0;34m\u001b[0m\u001b[0m\n",
            "\u001b[0;32m/usr/local/lib/python3.7/dist-packages/pandas/io/formats/csvs.py\u001b[0m in \u001b[0;36m_save\u001b[0;34m(self)\u001b[0m\n\u001b[1;32m    326\u001b[0m                 \u001b[0;32mbreak\u001b[0m\u001b[0;34m\u001b[0m\u001b[0;34m\u001b[0m\u001b[0m\n\u001b[1;32m    327\u001b[0m \u001b[0;34m\u001b[0m\u001b[0m\n\u001b[0;32m--> 328\u001b[0;31m             \u001b[0mself\u001b[0m\u001b[0;34m.\u001b[0m\u001b[0m_save_chunk\u001b[0m\u001b[0;34m(\u001b[0m\u001b[0mstart_i\u001b[0m\u001b[0;34m,\u001b[0m \u001b[0mend_i\u001b[0m\u001b[0;34m)\u001b[0m\u001b[0;34m\u001b[0m\u001b[0;34m\u001b[0m\u001b[0m\n\u001b[0m\u001b[1;32m    329\u001b[0m \u001b[0;34m\u001b[0m\u001b[0m\n\u001b[1;32m    330\u001b[0m     \u001b[0;32mdef\u001b[0m \u001b[0m_save_chunk\u001b[0m\u001b[0;34m(\u001b[0m\u001b[0mself\u001b[0m\u001b[0;34m,\u001b[0m \u001b[0mstart_i\u001b[0m\u001b[0;34m:\u001b[0m \u001b[0mint\u001b[0m\u001b[0;34m,\u001b[0m \u001b[0mend_i\u001b[0m\u001b[0;34m:\u001b[0m \u001b[0mint\u001b[0m\u001b[0;34m)\u001b[0m \u001b[0;34m->\u001b[0m \u001b[0;32mNone\u001b[0m\u001b[0;34m:\u001b[0m\u001b[0;34m\u001b[0m\u001b[0;34m\u001b[0m\u001b[0m\n",
            "\u001b[0;32m/usr/local/lib/python3.7/dist-packages/pandas/io/formats/csvs.py\u001b[0m in \u001b[0;36m_save_chunk\u001b[0;34m(self, start_i, end_i)\u001b[0m\n\u001b[1;32m    344\u001b[0m                 \u001b[0mdecimal\u001b[0m\u001b[0;34m=\u001b[0m\u001b[0mself\u001b[0m\u001b[0;34m.\u001b[0m\u001b[0mdecimal\u001b[0m\u001b[0;34m,\u001b[0m\u001b[0;34m\u001b[0m\u001b[0;34m\u001b[0m\u001b[0m\n\u001b[1;32m    345\u001b[0m                 \u001b[0mdate_format\u001b[0m\u001b[0;34m=\u001b[0m\u001b[0mself\u001b[0m\u001b[0;34m.\u001b[0m\u001b[0mdate_format\u001b[0m\u001b[0;34m,\u001b[0m\u001b[0;34m\u001b[0m\u001b[0;34m\u001b[0m\u001b[0m\n\u001b[0;32m--> 346\u001b[0;31m                 \u001b[0mquoting\u001b[0m\u001b[0;34m=\u001b[0m\u001b[0mself\u001b[0m\u001b[0;34m.\u001b[0m\u001b[0mquoting\u001b[0m\u001b[0;34m,\u001b[0m\u001b[0;34m\u001b[0m\u001b[0;34m\u001b[0m\u001b[0m\n\u001b[0m\u001b[1;32m    347\u001b[0m             )\n\u001b[1;32m    348\u001b[0m \u001b[0;34m\u001b[0m\u001b[0m\n",
            "\u001b[0;32m/usr/local/lib/python3.7/dist-packages/pandas/core/internals/blocks.py\u001b[0m in \u001b[0;36mto_native_types\u001b[0;34m(self, na_rep, float_format, decimal, quoting, **kwargs)\u001b[0m\n\u001b[1;32m   1949\u001b[0m \u001b[0;34m\u001b[0m\u001b[0m\n\u001b[1;32m   1950\u001b[0m             \u001b[0;32mif\u001b[0m \u001b[0;32mnot\u001b[0m \u001b[0mquoting\u001b[0m\u001b[0;34m:\u001b[0m\u001b[0;34m\u001b[0m\u001b[0;34m\u001b[0m\u001b[0m\n\u001b[0;32m-> 1951\u001b[0;31m                 \u001b[0mvalues\u001b[0m \u001b[0;34m=\u001b[0m \u001b[0mvalues\u001b[0m\u001b[0;34m.\u001b[0m\u001b[0mastype\u001b[0m\u001b[0;34m(\u001b[0m\u001b[0mstr\u001b[0m\u001b[0;34m)\u001b[0m\u001b[0;34m\u001b[0m\u001b[0;34m\u001b[0m\u001b[0m\n\u001b[0m\u001b[1;32m   1952\u001b[0m             \u001b[0;32melse\u001b[0m\u001b[0;34m:\u001b[0m\u001b[0;34m\u001b[0m\u001b[0;34m\u001b[0m\u001b[0m\n\u001b[1;32m   1953\u001b[0m                 \u001b[0mvalues\u001b[0m \u001b[0;34m=\u001b[0m \u001b[0mnp\u001b[0m\u001b[0;34m.\u001b[0m\u001b[0marray\u001b[0m\u001b[0;34m(\u001b[0m\u001b[0mvalues\u001b[0m\u001b[0;34m,\u001b[0m \u001b[0mdtype\u001b[0m\u001b[0;34m=\u001b[0m\u001b[0;34m\"object\"\u001b[0m\u001b[0;34m)\u001b[0m\u001b[0;34m\u001b[0m\u001b[0;34m\u001b[0m\u001b[0m\n",
            "\u001b[0;31mKeyboardInterrupt\u001b[0m: "
          ]
        }
      ]
    },
    {
      "cell_type": "code",
      "metadata": {
        "id": "GIjRmb_EiG_C",
        "colab": {
          "base_uri": "https://localhost:8080/"
        },
        "outputId": "97e210f9-4381-4d86-f313-7424d218e2f8"
      },
      "source": [
        "train_fea.shape"
      ],
      "execution_count": 52,
      "outputs": [
        {
          "output_type": "execute_result",
          "data": {
            "text/plain": [
              "(9912, 4, 4, 512)"
            ]
          },
          "metadata": {},
          "execution_count": 52
        }
      ]
    },
    {
      "cell_type": "code",
      "metadata": {
        "id": "OibaDXw5Mdd1",
        "colab": {
          "base_uri": "https://localhost:8080/"
        },
        "outputId": "2b39bbbf-f7d3-4966-a02d-b84d0ac62a52"
      },
      "source": [
        "mlp = Sequential(layers = [\n",
        "    Dense(units = 32, activation = 'relu', input_shape = (8192,)),\n",
        "    Dropout(0.45),\n",
        "    Dense(units = 64, activation = 'relu'),\n",
        "    Dropout(0.45),\n",
        "    Dense(units = 128, activation = 'relu'),\n",
        "    Dropout(0.45),\n",
        "    Dense(units = 64, activation = 'relu'),\n",
        "    Dropout(0.45),\n",
        "    Dense(units = 4, activation = 'relu'),\n",
        "    Dense(units = 1, activation = 'relu'),\n",
        "])\n",
        "\n",
        "mlp.summary()"
      ],
      "execution_count": 53,
      "outputs": [
        {
          "output_type": "stream",
          "name": "stdout",
          "text": [
            "Model: \"sequential_4\"\n",
            "_________________________________________________________________\n",
            " Layer (type)                Output Shape              Param #   \n",
            "=================================================================\n",
            " dense_24 (Dense)            (None, 32)                262176    \n",
            "                                                                 \n",
            " dropout_16 (Dropout)        (None, 32)                0         \n",
            "                                                                 \n",
            " dense_25 (Dense)            (None, 64)                2112      \n",
            "                                                                 \n",
            " dropout_17 (Dropout)        (None, 64)                0         \n",
            "                                                                 \n",
            " dense_26 (Dense)            (None, 128)               8320      \n",
            "                                                                 \n",
            " dropout_18 (Dropout)        (None, 128)               0         \n",
            "                                                                 \n",
            " dense_27 (Dense)            (None, 64)                8256      \n",
            "                                                                 \n",
            " dropout_19 (Dropout)        (None, 64)                0         \n",
            "                                                                 \n",
            " dense_28 (Dense)            (None, 4)                 260       \n",
            "                                                                 \n",
            " dense_29 (Dense)            (None, 1)                 5         \n",
            "                                                                 \n",
            "=================================================================\n",
            "Total params: 281,129\n",
            "Trainable params: 281,129\n",
            "Non-trainable params: 0\n",
            "_________________________________________________________________\n"
          ]
        }
      ]
    },
    {
      "cell_type": "code",
      "metadata": {
        "id": "4pd1afohNAJ6",
        "colab": {
          "base_uri": "https://localhost:8080/"
        },
        "outputId": "aa1eb6ad-497b-41c9-e403-1662aee7b07e"
      },
      "source": [
        "train_fea = train_fea.reshape(train_fea.shape[0], -1)\n",
        "print(train_fea.shape)"
      ],
      "execution_count": 54,
      "outputs": [
        {
          "output_type": "stream",
          "name": "stdout",
          "text": [
            "(9912, 8192)\n"
          ]
        }
      ]
    },
    {
      "cell_type": "code",
      "metadata": {
        "id": "oPpKiomtMlHP",
        "colab": {
          "base_uri": "https://localhost:8080/"
        },
        "outputId": "dfc97e96-73d6-486a-c1fa-7855f43c257f"
      },
      "source": [
        "adam = Adam(learning_rate = 0.01)\n",
        "reduce_lr = ReduceLROnPlateau(save_weights_only=True,\n",
        "  monitor='val_root_mean_squared_error',\n",
        "  mode='min',\n",
        "  save_best_only=True)\n",
        "\n",
        "mlp.compile(loss = \"mse\", optimizer = adam, metrics = RMSE())\n",
        "history=mlp.fit(train_fea, train_label, validation_split = 0.2, epochs = 100, batch_size = 32, callbacks = [reduce_lr])"
      ],
      "execution_count": 55,
      "outputs": [
        {
          "output_type": "stream",
          "name": "stdout",
          "text": [
            "Epoch 1/100\n",
            "248/248 [==============================] - 2s 4ms/step - loss: 755.9177 - root_mean_squared_error: 27.4940 - val_loss: 1015.7535 - val_root_mean_squared_error: 31.8709 - lr: 0.0100\n",
            "Epoch 2/100\n",
            "248/248 [==============================] - 1s 3ms/step - loss: 609.4512 - root_mean_squared_error: 24.6871 - val_loss: 919.4808 - val_root_mean_squared_error: 30.3229 - lr: 0.0100\n",
            "Epoch 3/100\n",
            "248/248 [==============================] - 1s 3ms/step - loss: 518.7733 - root_mean_squared_error: 22.7766 - val_loss: 425.9398 - val_root_mean_squared_error: 20.6383 - lr: 0.0100\n",
            "Epoch 4/100\n",
            "248/248 [==============================] - 1s 3ms/step - loss: 478.2106 - root_mean_squared_error: 21.8680 - val_loss: 417.7733 - val_root_mean_squared_error: 20.4395 - lr: 0.0100\n",
            "Epoch 5/100\n",
            "248/248 [==============================] - 1s 3ms/step - loss: 470.3542 - root_mean_squared_error: 21.6877 - val_loss: 422.3677 - val_root_mean_squared_error: 20.5516 - lr: 0.0100\n",
            "Epoch 6/100\n",
            "248/248 [==============================] - 1s 3ms/step - loss: 462.1707 - root_mean_squared_error: 21.4982 - val_loss: 417.3741 - val_root_mean_squared_error: 20.4297 - lr: 0.0100\n",
            "Epoch 7/100\n",
            "248/248 [==============================] - 1s 3ms/step - loss: 458.4581 - root_mean_squared_error: 21.4116 - val_loss: 417.6310 - val_root_mean_squared_error: 20.4360 - lr: 0.0100\n",
            "Epoch 8/100\n",
            "248/248 [==============================] - 1s 3ms/step - loss: 458.4407 - root_mean_squared_error: 21.4112 - val_loss: 419.1658 - val_root_mean_squared_error: 20.4735 - lr: 0.0100\n",
            "Epoch 9/100\n",
            "248/248 [==============================] - 1s 3ms/step - loss: 455.2130 - root_mean_squared_error: 21.3357 - val_loss: 416.6671 - val_root_mean_squared_error: 20.4124 - lr: 0.0100\n",
            "Epoch 10/100\n",
            "248/248 [==============================] - 1s 3ms/step - loss: 452.7689 - root_mean_squared_error: 21.2784 - val_loss: 417.5750 - val_root_mean_squared_error: 20.4347 - lr: 0.0100\n",
            "Epoch 11/100\n",
            "248/248 [==============================] - 1s 3ms/step - loss: 449.7308 - root_mean_squared_error: 21.2069 - val_loss: 416.6467 - val_root_mean_squared_error: 20.4119 - lr: 0.0100\n",
            "Epoch 12/100\n",
            "248/248 [==============================] - 1s 3ms/step - loss: 450.2378 - root_mean_squared_error: 21.2188 - val_loss: 416.5355 - val_root_mean_squared_error: 20.4092 - lr: 0.0100\n",
            "Epoch 13/100\n",
            "248/248 [==============================] - 1s 3ms/step - loss: 446.5764 - root_mean_squared_error: 21.1324 - val_loss: 419.8690 - val_root_mean_squared_error: 20.4907 - lr: 0.0100\n",
            "Epoch 14/100\n",
            "248/248 [==============================] - 1s 3ms/step - loss: 442.3148 - root_mean_squared_error: 21.0313 - val_loss: 418.3008 - val_root_mean_squared_error: 20.4524 - lr: 0.0100\n",
            "Epoch 15/100\n",
            "248/248 [==============================] - 1s 3ms/step - loss: 437.4145 - root_mean_squared_error: 20.9145 - val_loss: 417.0241 - val_root_mean_squared_error: 20.4212 - lr: 0.0100\n",
            "Epoch 16/100\n",
            "248/248 [==============================] - 1s 3ms/step - loss: 435.4600 - root_mean_squared_error: 20.8677 - val_loss: 420.1865 - val_root_mean_squared_error: 20.4985 - lr: 0.0100\n",
            "Epoch 17/100\n",
            "248/248 [==============================] - 1s 3ms/step - loss: 436.2421 - root_mean_squared_error: 20.8864 - val_loss: 416.5349 - val_root_mean_squared_error: 20.4092 - lr: 0.0100\n",
            "Epoch 18/100\n",
            "248/248 [==============================] - 1s 3ms/step - loss: 433.3243 - root_mean_squared_error: 20.8164 - val_loss: 416.9455 - val_root_mean_squared_error: 20.4192 - lr: 0.0100\n",
            "Epoch 19/100\n",
            "248/248 [==============================] - 1s 3ms/step - loss: 430.2651 - root_mean_squared_error: 20.7428 - val_loss: 417.0040 - val_root_mean_squared_error: 20.4207 - lr: 0.0100\n",
            "Epoch 20/100\n",
            "248/248 [==============================] - 1s 3ms/step - loss: 432.8528 - root_mean_squared_error: 20.8051 - val_loss: 416.8531 - val_root_mean_squared_error: 20.4170 - lr: 0.0100\n",
            "Epoch 21/100\n",
            "248/248 [==============================] - 1s 3ms/step - loss: 432.6004 - root_mean_squared_error: 20.7990 - val_loss: 416.5494 - val_root_mean_squared_error: 20.4095 - lr: 0.0100\n",
            "Epoch 22/100\n",
            "248/248 [==============================] - 1s 3ms/step - loss: 433.0556 - root_mean_squared_error: 20.8100 - val_loss: 427.1602 - val_root_mean_squared_error: 20.6679 - lr: 0.0100\n",
            "Epoch 23/100\n",
            "248/248 [==============================] - 1s 3ms/step - loss: 431.3557 - root_mean_squared_error: 20.7691 - val_loss: 416.5680 - val_root_mean_squared_error: 20.4100 - lr: 1.0000e-03\n",
            "Epoch 24/100\n",
            "248/248 [==============================] - 1s 3ms/step - loss: 429.9753 - root_mean_squared_error: 20.7358 - val_loss: 417.0428 - val_root_mean_squared_error: 20.4216 - lr: 1.0000e-03\n",
            "Epoch 25/100\n",
            "248/248 [==============================] - 1s 3ms/step - loss: 429.7892 - root_mean_squared_error: 20.7314 - val_loss: 416.5742 - val_root_mean_squared_error: 20.4101 - lr: 1.0000e-03\n",
            "Epoch 26/100\n",
            "248/248 [==============================] - 1s 3ms/step - loss: 428.8419 - root_mean_squared_error: 20.7085 - val_loss: 417.5635 - val_root_mean_squared_error: 20.4344 - lr: 1.0000e-03\n",
            "Epoch 27/100\n",
            "248/248 [==============================] - 1s 3ms/step - loss: 428.8510 - root_mean_squared_error: 20.7087 - val_loss: 416.5521 - val_root_mean_squared_error: 20.4096 - lr: 1.0000e-03\n",
            "Epoch 28/100\n",
            "248/248 [==============================] - 1s 3ms/step - loss: 428.4265 - root_mean_squared_error: 20.6985 - val_loss: 416.8472 - val_root_mean_squared_error: 20.4168 - lr: 1.0000e-03\n",
            "Epoch 29/100\n",
            "248/248 [==============================] - 1s 3ms/step - loss: 427.6232 - root_mean_squared_error: 20.6791 - val_loss: 416.6730 - val_root_mean_squared_error: 20.4126 - lr: 1.0000e-03\n",
            "Epoch 30/100\n",
            "248/248 [==============================] - 1s 3ms/step - loss: 428.1926 - root_mean_squared_error: 20.6928 - val_loss: 416.5617 - val_root_mean_squared_error: 20.4098 - lr: 1.0000e-03\n",
            "Epoch 31/100\n",
            "248/248 [==============================] - 1s 3ms/step - loss: 428.9016 - root_mean_squared_error: 20.7099 - val_loss: 416.5528 - val_root_mean_squared_error: 20.4096 - lr: 1.0000e-03\n",
            "Epoch 32/100\n",
            "248/248 [==============================] - 1s 3ms/step - loss: 428.9873 - root_mean_squared_error: 20.7120 - val_loss: 416.5347 - val_root_mean_squared_error: 20.4092 - lr: 1.0000e-03\n",
            "Epoch 33/100\n",
            "248/248 [==============================] - 1s 3ms/step - loss: 429.0833 - root_mean_squared_error: 20.7143 - val_loss: 416.5400 - val_root_mean_squared_error: 20.4093 - lr: 1.0000e-04\n",
            "Epoch 34/100\n",
            "248/248 [==============================] - 1s 3ms/step - loss: 428.3546 - root_mean_squared_error: 20.6967 - val_loss: 416.5404 - val_root_mean_squared_error: 20.4093 - lr: 1.0000e-04\n",
            "Epoch 35/100\n",
            "248/248 [==============================] - 1s 4ms/step - loss: 428.8673 - root_mean_squared_error: 20.7091 - val_loss: 416.5430 - val_root_mean_squared_error: 20.4094 - lr: 1.0000e-04\n",
            "Epoch 36/100\n",
            "248/248 [==============================] - 1s 3ms/step - loss: 429.3413 - root_mean_squared_error: 20.7206 - val_loss: 416.5535 - val_root_mean_squared_error: 20.4096 - lr: 1.0000e-04\n",
            "Epoch 37/100\n",
            "248/248 [==============================] - 1s 4ms/step - loss: 429.2344 - root_mean_squared_error: 20.7180 - val_loss: 416.5555 - val_root_mean_squared_error: 20.4097 - lr: 1.0000e-04\n",
            "Epoch 38/100\n",
            "248/248 [==============================] - 1s 3ms/step - loss: 429.2473 - root_mean_squared_error: 20.7183 - val_loss: 416.5525 - val_root_mean_squared_error: 20.4096 - lr: 1.0000e-04\n",
            "Epoch 39/100\n",
            "248/248 [==============================] - 1s 3ms/step - loss: 427.8944 - root_mean_squared_error: 20.6856 - val_loss: 416.5534 - val_root_mean_squared_error: 20.4096 - lr: 1.0000e-04\n",
            "Epoch 40/100\n",
            "248/248 [==============================] - 1s 4ms/step - loss: 428.8576 - root_mean_squared_error: 20.7089 - val_loss: 416.5558 - val_root_mean_squared_error: 20.4097 - lr: 1.0000e-04\n",
            "Epoch 41/100\n",
            "248/248 [==============================] - 1s 3ms/step - loss: 429.8284 - root_mean_squared_error: 20.7323 - val_loss: 416.5515 - val_root_mean_squared_error: 20.4096 - lr: 1.0000e-04\n",
            "Epoch 42/100\n",
            "248/248 [==============================] - 1s 3ms/step - loss: 428.8613 - root_mean_squared_error: 20.7090 - val_loss: 416.5500 - val_root_mean_squared_error: 20.4096 - lr: 1.0000e-04\n",
            "Epoch 43/100\n",
            "248/248 [==============================] - 1s 3ms/step - loss: 430.4506 - root_mean_squared_error: 20.7473 - val_loss: 416.5507 - val_root_mean_squared_error: 20.4096 - lr: 1.0000e-05\n",
            "Epoch 44/100\n",
            "248/248 [==============================] - 1s 4ms/step - loss: 427.7894 - root_mean_squared_error: 20.6831 - val_loss: 416.5491 - val_root_mean_squared_error: 20.4095 - lr: 1.0000e-05\n",
            "Epoch 45/100\n",
            "248/248 [==============================] - 1s 3ms/step - loss: 428.9694 - root_mean_squared_error: 20.7116 - val_loss: 416.5513 - val_root_mean_squared_error: 20.4096 - lr: 1.0000e-05\n",
            "Epoch 46/100\n",
            "248/248 [==============================] - 1s 3ms/step - loss: 428.5977 - root_mean_squared_error: 20.7026 - val_loss: 416.5509 - val_root_mean_squared_error: 20.4096 - lr: 1.0000e-05\n",
            "Epoch 47/100\n",
            "248/248 [==============================] - 1s 4ms/step - loss: 429.4460 - root_mean_squared_error: 20.7231 - val_loss: 416.5522 - val_root_mean_squared_error: 20.4096 - lr: 1.0000e-05\n",
            "Epoch 48/100\n",
            "248/248 [==============================] - 1s 3ms/step - loss: 428.5461 - root_mean_squared_error: 20.7014 - val_loss: 416.5514 - val_root_mean_squared_error: 20.4096 - lr: 1.0000e-05\n",
            "Epoch 49/100\n",
            "248/248 [==============================] - 1s 3ms/step - loss: 428.5551 - root_mean_squared_error: 20.7016 - val_loss: 416.5518 - val_root_mean_squared_error: 20.4096 - lr: 1.0000e-05\n",
            "Epoch 50/100\n",
            "248/248 [==============================] - 1s 3ms/step - loss: 428.6994 - root_mean_squared_error: 20.7051 - val_loss: 416.5521 - val_root_mean_squared_error: 20.4096 - lr: 1.0000e-05\n",
            "Epoch 51/100\n",
            "248/248 [==============================] - 1s 3ms/step - loss: 428.8721 - root_mean_squared_error: 20.7092 - val_loss: 416.5517 - val_root_mean_squared_error: 20.4096 - lr: 1.0000e-05\n",
            "Epoch 52/100\n",
            "248/248 [==============================] - 1s 3ms/step - loss: 427.7520 - root_mean_squared_error: 20.6822 - val_loss: 416.5501 - val_root_mean_squared_error: 20.4096 - lr: 1.0000e-05\n",
            "Epoch 53/100\n",
            "248/248 [==============================] - 1s 3ms/step - loss: 428.4148 - root_mean_squared_error: 20.6982 - val_loss: 416.5500 - val_root_mean_squared_error: 20.4096 - lr: 1.0000e-06\n",
            "Epoch 54/100\n",
            "248/248 [==============================] - 1s 4ms/step - loss: 429.1860 - root_mean_squared_error: 20.7168 - val_loss: 416.5499 - val_root_mean_squared_error: 20.4096 - lr: 1.0000e-06\n",
            "Epoch 55/100\n",
            "248/248 [==============================] - 1s 3ms/step - loss: 428.9995 - root_mean_squared_error: 20.7123 - val_loss: 416.5500 - val_root_mean_squared_error: 20.4096 - lr: 1.0000e-06\n",
            "Epoch 56/100\n",
            "248/248 [==============================] - 1s 3ms/step - loss: 428.8656 - root_mean_squared_error: 20.7091 - val_loss: 416.5501 - val_root_mean_squared_error: 20.4096 - lr: 1.0000e-06\n",
            "Epoch 57/100\n",
            "248/248 [==============================] - 1s 3ms/step - loss: 428.0672 - root_mean_squared_error: 20.6898 - val_loss: 416.5503 - val_root_mean_squared_error: 20.4096 - lr: 1.0000e-06\n",
            "Epoch 58/100\n",
            "248/248 [==============================] - 1s 4ms/step - loss: 426.9542 - root_mean_squared_error: 20.6629 - val_loss: 416.5500 - val_root_mean_squared_error: 20.4096 - lr: 1.0000e-06\n",
            "Epoch 59/100\n",
            "248/248 [==============================] - 1s 4ms/step - loss: 428.1764 - root_mean_squared_error: 20.6924 - val_loss: 416.5498 - val_root_mean_squared_error: 20.4096 - lr: 1.0000e-06\n",
            "Epoch 60/100\n",
            "248/248 [==============================] - 1s 4ms/step - loss: 428.4784 - root_mean_squared_error: 20.6997 - val_loss: 416.5498 - val_root_mean_squared_error: 20.4096 - lr: 1.0000e-06\n",
            "Epoch 61/100\n",
            "248/248 [==============================] - 1s 3ms/step - loss: 429.5216 - root_mean_squared_error: 20.7249 - val_loss: 416.5500 - val_root_mean_squared_error: 20.4096 - lr: 1.0000e-06\n",
            "Epoch 62/100\n",
            "248/248 [==============================] - 1s 3ms/step - loss: 429.3417 - root_mean_squared_error: 20.7206 - val_loss: 416.5501 - val_root_mean_squared_error: 20.4096 - lr: 1.0000e-06\n",
            "Epoch 63/100\n",
            "248/248 [==============================] - 1s 3ms/step - loss: 429.1752 - root_mean_squared_error: 20.7165 - val_loss: 416.5501 - val_root_mean_squared_error: 20.4096 - lr: 1.0000e-07\n",
            "Epoch 64/100\n",
            "248/248 [==============================] - 1s 3ms/step - loss: 428.1585 - root_mean_squared_error: 20.6920 - val_loss: 416.5501 - val_root_mean_squared_error: 20.4096 - lr: 1.0000e-07\n",
            "Epoch 65/100\n",
            "248/248 [==============================] - 1s 4ms/step - loss: 427.9726 - root_mean_squared_error: 20.6875 - val_loss: 416.5501 - val_root_mean_squared_error: 20.4096 - lr: 1.0000e-07\n",
            "Epoch 66/100\n",
            "248/248 [==============================] - 1s 3ms/step - loss: 428.1301 - root_mean_squared_error: 20.6913 - val_loss: 416.5501 - val_root_mean_squared_error: 20.4096 - lr: 1.0000e-07\n",
            "Epoch 67/100\n",
            "248/248 [==============================] - 1s 4ms/step - loss: 428.0472 - root_mean_squared_error: 20.6893 - val_loss: 416.5501 - val_root_mean_squared_error: 20.4096 - lr: 1.0000e-07\n",
            "Epoch 68/100\n",
            "248/248 [==============================] - 1s 3ms/step - loss: 429.3071 - root_mean_squared_error: 20.7197 - val_loss: 416.5501 - val_root_mean_squared_error: 20.4096 - lr: 1.0000e-07\n",
            "Epoch 69/100\n",
            "248/248 [==============================] - 1s 4ms/step - loss: 428.3516 - root_mean_squared_error: 20.6967 - val_loss: 416.5501 - val_root_mean_squared_error: 20.4096 - lr: 1.0000e-07\n",
            "Epoch 70/100\n",
            "248/248 [==============================] - 1s 3ms/step - loss: 428.2847 - root_mean_squared_error: 20.6950 - val_loss: 416.5501 - val_root_mean_squared_error: 20.4096 - lr: 1.0000e-07\n",
            "Epoch 71/100\n",
            "248/248 [==============================] - 1s 3ms/step - loss: 428.1965 - root_mean_squared_error: 20.6929 - val_loss: 416.5501 - val_root_mean_squared_error: 20.4096 - lr: 1.0000e-07\n",
            "Epoch 72/100\n",
            "248/248 [==============================] - 1s 4ms/step - loss: 429.2330 - root_mean_squared_error: 20.7179 - val_loss: 416.5501 - val_root_mean_squared_error: 20.4096 - lr: 1.0000e-07\n",
            "Epoch 73/100\n",
            "248/248 [==============================] - 1s 4ms/step - loss: 428.7966 - root_mean_squared_error: 20.7074 - val_loss: 416.5501 - val_root_mean_squared_error: 20.4096 - lr: 1.0000e-08\n",
            "Epoch 74/100\n",
            "248/248 [==============================] - 1s 4ms/step - loss: 428.0697 - root_mean_squared_error: 20.6898 - val_loss: 416.5502 - val_root_mean_squared_error: 20.4096 - lr: 1.0000e-08\n",
            "Epoch 75/100\n",
            "248/248 [==============================] - 1s 3ms/step - loss: 428.8465 - root_mean_squared_error: 20.7086 - val_loss: 416.5502 - val_root_mean_squared_error: 20.4096 - lr: 1.0000e-08\n",
            "Epoch 76/100\n",
            "248/248 [==============================] - 1s 4ms/step - loss: 428.7980 - root_mean_squared_error: 20.7074 - val_loss: 416.5502 - val_root_mean_squared_error: 20.4096 - lr: 1.0000e-08\n",
            "Epoch 77/100\n",
            "248/248 [==============================] - 1s 4ms/step - loss: 430.2103 - root_mean_squared_error: 20.7415 - val_loss: 416.5502 - val_root_mean_squared_error: 20.4096 - lr: 1.0000e-08\n",
            "Epoch 78/100\n",
            "248/248 [==============================] - 1s 3ms/step - loss: 428.1324 - root_mean_squared_error: 20.6914 - val_loss: 416.5502 - val_root_mean_squared_error: 20.4096 - lr: 1.0000e-08\n",
            "Epoch 79/100\n",
            "248/248 [==============================] - 1s 3ms/step - loss: 429.2320 - root_mean_squared_error: 20.7179 - val_loss: 416.5502 - val_root_mean_squared_error: 20.4096 - lr: 1.0000e-08\n",
            "Epoch 80/100\n",
            "248/248 [==============================] - 1s 4ms/step - loss: 428.8833 - root_mean_squared_error: 20.7095 - val_loss: 416.5502 - val_root_mean_squared_error: 20.4096 - lr: 1.0000e-08\n",
            "Epoch 81/100\n",
            "248/248 [==============================] - 1s 4ms/step - loss: 429.1577 - root_mean_squared_error: 20.7161 - val_loss: 416.5502 - val_root_mean_squared_error: 20.4096 - lr: 1.0000e-08\n",
            "Epoch 82/100\n",
            "248/248 [==============================] - 1s 3ms/step - loss: 428.4019 - root_mean_squared_error: 20.6979 - val_loss: 416.5502 - val_root_mean_squared_error: 20.4096 - lr: 1.0000e-08\n",
            "Epoch 83/100\n",
            "248/248 [==============================] - 1s 4ms/step - loss: 426.9835 - root_mean_squared_error: 20.6636 - val_loss: 416.5502 - val_root_mean_squared_error: 20.4096 - lr: 1.0000e-09\n",
            "Epoch 84/100\n",
            "248/248 [==============================] - 1s 3ms/step - loss: 428.4698 - root_mean_squared_error: 20.6995 - val_loss: 416.5502 - val_root_mean_squared_error: 20.4096 - lr: 1.0000e-09\n",
            "Epoch 85/100\n",
            "248/248 [==============================] - 1s 3ms/step - loss: 429.0133 - root_mean_squared_error: 20.7126 - val_loss: 416.5502 - val_root_mean_squared_error: 20.4096 - lr: 1.0000e-09\n",
            "Epoch 86/100\n",
            "248/248 [==============================] - 1s 4ms/step - loss: 429.1964 - root_mean_squared_error: 20.7171 - val_loss: 416.5502 - val_root_mean_squared_error: 20.4096 - lr: 1.0000e-09\n",
            "Epoch 87/100\n",
            "248/248 [==============================] - 1s 3ms/step - loss: 427.0650 - root_mean_squared_error: 20.6656 - val_loss: 416.5502 - val_root_mean_squared_error: 20.4096 - lr: 1.0000e-09\n",
            "Epoch 88/100\n",
            "248/248 [==============================] - 1s 3ms/step - loss: 427.7755 - root_mean_squared_error: 20.6827 - val_loss: 416.5502 - val_root_mean_squared_error: 20.4096 - lr: 1.0000e-09\n",
            "Epoch 89/100\n",
            "248/248 [==============================] - 1s 3ms/step - loss: 429.3463 - root_mean_squared_error: 20.7207 - val_loss: 416.5502 - val_root_mean_squared_error: 20.4096 - lr: 1.0000e-09\n",
            "Epoch 90/100\n",
            "248/248 [==============================] - 1s 3ms/step - loss: 428.5011 - root_mean_squared_error: 20.7003 - val_loss: 416.5502 - val_root_mean_squared_error: 20.4096 - lr: 1.0000e-09\n",
            "Epoch 91/100\n",
            "248/248 [==============================] - 1s 3ms/step - loss: 429.5171 - root_mean_squared_error: 20.7248 - val_loss: 416.5502 - val_root_mean_squared_error: 20.4096 - lr: 1.0000e-09\n",
            "Epoch 92/100\n",
            "248/248 [==============================] - 1s 3ms/step - loss: 429.2278 - root_mean_squared_error: 20.7178 - val_loss: 416.5502 - val_root_mean_squared_error: 20.4096 - lr: 1.0000e-09\n",
            "Epoch 93/100\n",
            "248/248 [==============================] - 1s 4ms/step - loss: 428.8878 - root_mean_squared_error: 20.7096 - val_loss: 416.5502 - val_root_mean_squared_error: 20.4096 - lr: 1.0000e-10\n",
            "Epoch 94/100\n",
            "248/248 [==============================] - 1s 3ms/step - loss: 428.7170 - root_mean_squared_error: 20.7055 - val_loss: 416.5502 - val_root_mean_squared_error: 20.4096 - lr: 1.0000e-10\n",
            "Epoch 95/100\n",
            "248/248 [==============================] - 1s 3ms/step - loss: 427.9611 - root_mean_squared_error: 20.6872 - val_loss: 416.5502 - val_root_mean_squared_error: 20.4096 - lr: 1.0000e-10\n",
            "Epoch 96/100\n",
            "248/248 [==============================] - 1s 3ms/step - loss: 429.3595 - root_mean_squared_error: 20.7210 - val_loss: 416.5502 - val_root_mean_squared_error: 20.4096 - lr: 1.0000e-10\n",
            "Epoch 97/100\n",
            "248/248 [==============================] - 1s 4ms/step - loss: 429.3866 - root_mean_squared_error: 20.7216 - val_loss: 416.5502 - val_root_mean_squared_error: 20.4096 - lr: 1.0000e-10\n",
            "Epoch 98/100\n",
            "248/248 [==============================] - 1s 3ms/step - loss: 427.8848 - root_mean_squared_error: 20.6854 - val_loss: 416.5502 - val_root_mean_squared_error: 20.4096 - lr: 1.0000e-10\n",
            "Epoch 99/100\n",
            "248/248 [==============================] - 1s 3ms/step - loss: 428.4800 - root_mean_squared_error: 20.6998 - val_loss: 416.5502 - val_root_mean_squared_error: 20.4096 - lr: 1.0000e-10\n",
            "Epoch 100/100\n",
            "248/248 [==============================] - 1s 3ms/step - loss: 427.5617 - root_mean_squared_error: 20.6776 - val_loss: 416.5502 - val_root_mean_squared_error: 20.4096 - lr: 1.0000e-10\n"
          ]
        }
      ]
    },
    {
      "cell_type": "code",
      "metadata": {
        "id": "CZNBKkffQ5yw"
      },
      "source": [
        "mlp.save('/content/drive/MyDrive/dataset-2/mlp_2.h5')"
      ],
      "execution_count": 57,
      "outputs": []
    },
    {
      "cell_type": "code",
      "metadata": {
        "id": "A4vNGrEWIhYV"
      },
      "source": [
        "def plot(history):\n",
        "\t# plot loss\n",
        "# plot loss\n",
        "  pyplot.subplot(211)\n",
        "  pyplot.title('Loss')\n",
        "  plt.xlabel(\"epoch\")\n",
        "  plt.ylabel(\"score\")\n",
        "  pyplot.plot(history.history['loss'], color='blue', label='train')\n",
        "  pyplot.plot(history.history['val_loss'], color='orange', label='test')\n",
        "  plt.legend()\n",
        "\t# plot accuracy\n",
        "  pyplot.subplot(212)\n",
        "  pyplot.title('RMSE')\n",
        "  plt.xlabel(\"epoch\")\n",
        "  plt.ylabel(\"score\")\n",
        "  pyplot.plot(history.history['root_mean_squared_error'], color='blue', label='train')\n",
        "  pyplot.plot(history.history['val_root_mean_squared_error'], color='orange', label='test')\n",
        "  plt.legend(loc=\"upper right\")\n",
        "  pyplot.show()"
      ],
      "execution_count": null,
      "outputs": []
    },
    {
      "cell_type": "code",
      "metadata": {
        "id": "LaEvgIHwIqkC"
      },
      "source": [
        "from matplotlib import pyplot"
      ],
      "execution_count": 40,
      "outputs": []
    },
    {
      "cell_type": "code",
      "metadata": {
        "colab": {
          "base_uri": "https://localhost:8080/",
          "height": 295
        },
        "id": "5Eq-vdhlIj0T",
        "outputId": "01efddad-1599-4bb4-a8bd-d18244bcdd2d"
      },
      "source": [
        "plot(history)"
      ],
      "execution_count": 61,
      "outputs": [
        {
          "output_type": "display_data",
          "data": {
            "image/png": "[encoded data removed]",
            "text/plain": [
              "<Figure size 432x288 with 2 Axes>"
            ]
          },
          "metadata": {
            "needs_background": "light"
          }
        }
      ]
    },
    {
      "cell_type": "code",
      "metadata": {
        "id": "DFbJaDl7xkF4"
      },
      "source": [
        "img_size = [128, 128]\n",
        "maxDelta = 0.2\n",
        "contrast = [0.2, 0.5]\n",
        "batch_size = 64\n",
        "\n",
        "# pipeline\n",
        "# image decoder\n",
        "def img_decoder_new(path):\n",
        "  img_file = tf.io.read_file(path)\n",
        "  img = tf.image.decode_jpeg(img_file, channels=3)\n",
        "  # resize images with pad to desired size\n",
        "  img = tf.image.resize_with_pad(img, img_size[0], img_size[1])\n",
        "  # image normalization\n",
        "  img = tf.cast(img, tf.float32) / 255.0\n",
        "  # image reshape\n",
        "  img = tf.reshape(img, [*img_size, 3])\n",
        "  \n",
        "  return img\n",
        "\n",
        "# image augmentations\n",
        "  # random flip\n",
        "  # random brightness\n",
        "  # random contrast\n",
        "  # random hue\n",
        "def img_flip_new(img):\n",
        "  img = tf.image.random_flip_left_right(img)\n",
        "  img = tf.reshape(img, [*img_size, 3])\n",
        "  return img\n",
        "\n",
        "def img_flip2_new(img):\n",
        "  img = tf.image.random_flip_up_down(img)\n",
        "  img = tf.reshape(img, [*img_size, 3])\n",
        "  return img\n",
        "\n",
        "def img_bri_new(img):\n",
        "  img = tf.image.random_brightness(img, max_delta=maxDelta)\n",
        "  img = tf.reshape(img, [*img_size, 3])\n",
        "  return img\n",
        "\n",
        "def img_contrast_new(img):\n",
        "  img = tf.image.random_contrast(img, contrast[0], contrast[1])\n",
        "  img = tf.reshape(img, [*img_size, 3])\n",
        "  return img\n",
        "\n",
        "def img_hue_new(img):\n",
        "  img = tf.image.random_hue(img, max_delta=maxDelta)\n",
        "  img = tf.reshape(img, [*img_size, 3])\n",
        "  return img"
      ],
      "execution_count": null,
      "outputs": []
    },
    {
      "cell_type": "code",
      "metadata": {
        "id": "mXKKGzf-KqzP"
      },
      "source": [
        "# # Training Only\n",
        "train_images_2 = []\n",
        "for i in tqdm(range(train.shape[0])):\n",
        "   path = os.path.join(train_images_path, train_images_list[i])\n",
        "   image = cv2.imread(path)\n",
        "   image = image / 255\n",
        "   image = cv2.resize(image, (224, 224))\n",
        "  # image = img_flip_new(image)\n",
        "  # image = img_bri_new(image)\n",
        "  # image = img_contrast_new(image)\n",
        "  # image = img_hue_new(image)\n",
        "   train_images_2.append(image)\n",
        "train_images_2 = np.array(train_images_2)  \n",
        "print(train_images_2.shape)"
      ],
      "execution_count": null,
      "outputs": []
    },
    {
      "cell_type": "code",
      "metadata": {
        "id": "2n0NppjLaKvJ"
      },
      "source": [
        "\n",
        "train_fea = model.predict(train_images_2)"
      ],
      "execution_count": null,
      "outputs": []
    },
    {
      "cell_type": "code",
      "metadata": {
        "id": "kUH7PjJyaGfl"
      },
      "source": [
        "mlp = Sequential(layers = [\n",
        "    Dense(units = 32, activation = 'relu', input_shape = (8192,)),\n",
        "    Dropout(0.45),\n",
        "    Dense(units = 64, activation = 'relu'),\n",
        "    Dropout(0.45),\n",
        "    Dense(units = 128, activation = 'relu'),\n",
        "    Dropout(0.45),\n",
        "    Dense(units = 64, activation = 'relu'),\n",
        "    Dropout(0.45),\n",
        "    Dense(units = 4, activation = 'relu'),\n",
        "    Dense(units = 1, activation = 'relu'),\n",
        "])\n",
        "\n",
        "mlp.summary()"
      ],
      "execution_count": null,
      "outputs": []
    },
    {
      "cell_type": "code",
      "metadata": {
        "id": "QG8T6YJLKq8B"
      },
      "source": [
        "train_fea = train_fea.reshape(train_fea.shape[0], -1)\n",
        "print(train_fea.shape)"
      ],
      "execution_count": null,
      "outputs": []
    },
    {
      "cell_type": "code",
      "metadata": {
        "id": "fzKwoapVehrj"
      },
      "source": [
        "adam = Adam(learning_rate = 0.01)\n",
        "reduce_lr = ReduceLROnPlateau(save_weights_only=True,\n",
        "  monitor='val_root_mean_squared_error',\n",
        "  mode='min',\n",
        "  save_best_only=True)\n",
        "\n",
        "mlp.compile(loss = \"mse\", optimizer = adam, metrics = RMSE())\n",
        "predictor = mlp.fit(train_fea, train_label, validation_split = 0.2, epochs = 100, batch_size = 32, callbacks = [reduce_lr])"
      ],
      "execution_count": null,
      "outputs": []
    }
  ]
}